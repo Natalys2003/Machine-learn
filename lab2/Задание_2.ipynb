{
  "nbformat": 4,
  "nbformat_minor": 0,
  "metadata": {
    "colab": {
      "provenance": [],
      "include_colab_link": true
    },
    "kernelspec": {
      "name": "python3",
      "display_name": "Python 3"
    },
    "language_info": {
      "name": "python"
    }
  },
  "cells": [
    {
      "cell_type": "markdown",
      "metadata": {
        "id": "view-in-github",
        "colab_type": "text"
      },
      "source": [
        "<a href=\"https://colab.research.google.com/github/Natalys2003/Machine-learn/blob/main/lab2/%D0%97%D0%B0%D0%B4%D0%B0%D0%BD%D0%B8%D0%B5_2.ipynb\" target=\"_parent\"><img src=\"https://colab.research.google.com/assets/colab-badge.svg\" alt=\"Open In Colab\"/></a>"
      ]
    },
    {
      "cell_type": "markdown",
      "source": [
        "#Задание по практике 2"
      ],
      "metadata": {
        "id": "_dGfjiUjUNab"
      }
    },
    {
      "cell_type": "code",
      "source": [
        "!pip install pandas\n",
        "!pip install seaborn"
      ],
      "metadata": {
        "id": "wXXP-hXKrxPW",
        "colab": {
          "base_uri": "https://localhost:8080/"
        },
        "outputId": "593cbc09-d877-486c-bd0e-dbef3372fa66"
      },
      "execution_count": 1,
      "outputs": [
        {
          "output_type": "stream",
          "name": "stdout",
          "text": [
            "Requirement already satisfied: pandas in /usr/local/lib/python3.10/dist-packages (1.5.3)\n",
            "Requirement already satisfied: python-dateutil>=2.8.1 in /usr/local/lib/python3.10/dist-packages (from pandas) (2.8.2)\n",
            "Requirement already satisfied: pytz>=2020.1 in /usr/local/lib/python3.10/dist-packages (from pandas) (2023.3.post1)\n",
            "Requirement already satisfied: numpy>=1.21.0 in /usr/local/lib/python3.10/dist-packages (from pandas) (1.23.5)\n",
            "Requirement already satisfied: six>=1.5 in /usr/local/lib/python3.10/dist-packages (from python-dateutil>=2.8.1->pandas) (1.16.0)\n",
            "Requirement already satisfied: seaborn in /usr/local/lib/python3.10/dist-packages (0.12.2)\n",
            "Requirement already satisfied: numpy!=1.24.0,>=1.17 in /usr/local/lib/python3.10/dist-packages (from seaborn) (1.23.5)\n",
            "Requirement already satisfied: pandas>=0.25 in /usr/local/lib/python3.10/dist-packages (from seaborn) (1.5.3)\n",
            "Requirement already satisfied: matplotlib!=3.6.1,>=3.1 in /usr/local/lib/python3.10/dist-packages (from seaborn) (3.7.1)\n",
            "Requirement already satisfied: contourpy>=1.0.1 in /usr/local/lib/python3.10/dist-packages (from matplotlib!=3.6.1,>=3.1->seaborn) (1.2.0)\n",
            "Requirement already satisfied: cycler>=0.10 in /usr/local/lib/python3.10/dist-packages (from matplotlib!=3.6.1,>=3.1->seaborn) (0.12.1)\n",
            "Requirement already satisfied: fonttools>=4.22.0 in /usr/local/lib/python3.10/dist-packages (from matplotlib!=3.6.1,>=3.1->seaborn) (4.47.0)\n",
            "Requirement already satisfied: kiwisolver>=1.0.1 in /usr/local/lib/python3.10/dist-packages (from matplotlib!=3.6.1,>=3.1->seaborn) (1.4.5)\n",
            "Requirement already satisfied: packaging>=20.0 in /usr/local/lib/python3.10/dist-packages (from matplotlib!=3.6.1,>=3.1->seaborn) (23.2)\n",
            "Requirement already satisfied: pillow>=6.2.0 in /usr/local/lib/python3.10/dist-packages (from matplotlib!=3.6.1,>=3.1->seaborn) (9.4.0)\n",
            "Requirement already satisfied: pyparsing>=2.3.1 in /usr/local/lib/python3.10/dist-packages (from matplotlib!=3.6.1,>=3.1->seaborn) (3.1.1)\n",
            "Requirement already satisfied: python-dateutil>=2.7 in /usr/local/lib/python3.10/dist-packages (from matplotlib!=3.6.1,>=3.1->seaborn) (2.8.2)\n",
            "Requirement already satisfied: pytz>=2020.1 in /usr/local/lib/python3.10/dist-packages (from pandas>=0.25->seaborn) (2023.3.post1)\n",
            "Requirement already satisfied: six>=1.5 in /usr/local/lib/python3.10/dist-packages (from python-dateutil>=2.7->matplotlib!=3.6.1,>=3.1->seaborn) (1.16.0)\n"
          ]
        }
      ]
    },
    {
      "cell_type": "code",
      "execution_count": 2,
      "metadata": {
        "id": "7u0VPzz-UKNu"
      },
      "outputs": [],
      "source": [
        "import pandas as pd\n",
        "import seaborn as sns\n",
        "import numpy as np\n",
        "import matplotlib.pyplot as plt"
      ]
    },
    {
      "cell_type": "markdown",
      "source": [
        "##Введение в описательную статистику"
      ],
      "metadata": {
        "id": "yKPA-E-VVSS-"
      }
    },
    {
      "cell_type": "markdown",
      "source": [
        "1. Выберите категориальную целевую переменную (**Y**)\n",
        "\n",
        "2. Выберите переменную для анализа относительно категории (**X**)\n",
        "\n",
        "3. Выведитие обобщенную статистическую информацию переменной (**X**)\n",
        "\n",
        "2. Вычислите среднее, медиану, моду, минимум, максимум, стандартное отклонение относительно целевой пременной из файла Classification datasets в соответствии с вашим вариантом\n",
        "\n",
        "3. Сделайте вывод относительно полученных результатов\n",
        "\n",
        "p.s если у вас нет категориальных признаков - преобразуйте любой числовой в категориальный (https://pandas.pydata.org/docs/reference/api/pandas.cut.html). Важно **не** использовать преобразованный Y вместе с этим же X (то есть, если вы преобразовали возраст в категорию, то вы не моежет использовать возраст в качестве X и возраст категорию в качестве Y)"
      ],
      "metadata": {
        "id": "Rrr4WPcGUwOx"
      }
    },
    {
      "cell_type": "code",
      "source": [
        "df = pd.read_csv(\"/content/Global YouTube Statistics.csv\", encoding='unicode_escape')\n",
        "df"
      ],
      "metadata": {
        "id": "wZiCpTwgUuYw",
        "colab": {
          "base_uri": "https://localhost:8080/",
          "height": 617
        },
        "outputId": "28c28285-b295-467d-ccd6-9ceca4dc532d"
      },
      "execution_count": 4,
      "outputs": [
        {
          "output_type": "execute_result",
          "data": {
            "text/plain": [
              "     rank                    Youtuber  subscribers   video views  \\\n",
              "0       1                    T-Series    245000000  2.280000e+11   \n",
              "1       2              YouTube Movies    170000000  0.000000e+00   \n",
              "2       3                     MrBeast    166000000  2.836884e+10   \n",
              "3       4  Cocomelon - Nursery Rhymes    162000000  1.640000e+11   \n",
              "4       5                   SET India    159000000  1.480000e+11   \n",
              "..    ...                         ...          ...           ...   \n",
              "990   991               Natan por Aï¿     12300000  9.029610e+09   \n",
              "991   992    Free Fire India Official     12300000  1.674410e+09   \n",
              "992   993                       Panda     12300000  2.214684e+09   \n",
              "993   994                 RobTopGames     12300000  3.741235e+08   \n",
              "994   995                Make Joke Of     12300000  2.129774e+09   \n",
              "\n",
              "             category                       Title  uploads         Country  \\\n",
              "0               Music                    T-Series    20082           India   \n",
              "1    Film & Animation               youtubemovies        1   United States   \n",
              "2       Entertainment                     MrBeast      741   United States   \n",
              "3           Education  Cocomelon - Nursery Rhymes      966   United States   \n",
              "4               Shows                   SET India   116536           India   \n",
              "..                ...                         ...      ...             ...   \n",
              "990            Sports               Natan por Aï¿     1200          Brazil   \n",
              "991    People & Blogs    Free Fire India Official     1500           India   \n",
              "992               NaN                 HybridPanda     2452  United Kingdom   \n",
              "993            Gaming                 RobTopGames       39          Sweden   \n",
              "994            Comedy                Make Joke Of       62           India   \n",
              "\n",
              "    Abbreviation   channel_type  ...  subscribers_for_last_30_days  \\\n",
              "0             IN          Music  ...                     2000000.0   \n",
              "1             US          Games  ...                           NaN   \n",
              "2             US  Entertainment  ...                     8000000.0   \n",
              "3             US      Education  ...                     1000000.0   \n",
              "4             IN  Entertainment  ...                     1000000.0   \n",
              "..           ...            ...  ...                           ...   \n",
              "990           BR  Entertainment  ...                      700000.0   \n",
              "991           IN          Games  ...                      300000.0   \n",
              "992           GB          Games  ...                        1000.0   \n",
              "993           SE          Games  ...                      100000.0   \n",
              "994           IN         Comedy  ...                      100000.0   \n",
              "\n",
              "     created_year  created_month  created_date  \\\n",
              "0          2006.0            Mar          13.0   \n",
              "1          2006.0            Mar           5.0   \n",
              "2          2012.0            Feb          20.0   \n",
              "3          2006.0            Sep           1.0   \n",
              "4          2006.0            Sep          20.0   \n",
              "..            ...            ...           ...   \n",
              "990        2017.0            Feb          12.0   \n",
              "991        2018.0            Sep          14.0   \n",
              "992        2006.0            Sep          11.0   \n",
              "993        2012.0            May           9.0   \n",
              "994        2017.0            Aug           1.0   \n",
              "\n",
              "     Gross tertiary education enrollment (%)    Population  Unemployment rate  \\\n",
              "0                                       28.1  1.366418e+09               5.36   \n",
              "1                                       88.2  3.282395e+08              14.70   \n",
              "2                                       88.2  3.282395e+08              14.70   \n",
              "3                                       88.2  3.282395e+08              14.70   \n",
              "4                                       28.1  1.366418e+09               5.36   \n",
              "..                                       ...           ...                ...   \n",
              "990                                     51.3  2.125594e+08              12.08   \n",
              "991                                     28.1  1.366418e+09               5.36   \n",
              "992                                     60.0  6.683440e+07               3.85   \n",
              "993                                     67.0  1.028545e+07               6.48   \n",
              "994                                     28.1  1.366418e+09               5.36   \n",
              "\n",
              "     Urban_population   Latitude  Longitude  \n",
              "0         471031528.0  20.593684  78.962880  \n",
              "1         270663028.0  37.090240 -95.712891  \n",
              "2         270663028.0  37.090240 -95.712891  \n",
              "3         270663028.0  37.090240 -95.712891  \n",
              "4         471031528.0  20.593684  78.962880  \n",
              "..                ...        ...        ...  \n",
              "990       183241641.0 -14.235004 -51.925280  \n",
              "991       471031528.0  20.593684  78.962880  \n",
              "992        55908316.0  55.378051  -3.435973  \n",
              "993         9021165.0  60.128161  18.643501  \n",
              "994       471031528.0  20.593684  78.962880  \n",
              "\n",
              "[995 rows x 28 columns]"
            ],
            "text/html": [
              "\n",
              "  <div id=\"df-3d5c8e6b-d1e1-4923-b940-935c38d3abe2\" class=\"colab-df-container\">\n",
              "    <div>\n",
              "<style scoped>\n",
              "    .dataframe tbody tr th:only-of-type {\n",
              "        vertical-align: middle;\n",
              "    }\n",
              "\n",
              "    .dataframe tbody tr th {\n",
              "        vertical-align: top;\n",
              "    }\n",
              "\n",
              "    .dataframe thead th {\n",
              "        text-align: right;\n",
              "    }\n",
              "</style>\n",
              "<table border=\"1\" class=\"dataframe\">\n",
              "  <thead>\n",
              "    <tr style=\"text-align: right;\">\n",
              "      <th></th>\n",
              "      <th>rank</th>\n",
              "      <th>Youtuber</th>\n",
              "      <th>subscribers</th>\n",
              "      <th>video views</th>\n",
              "      <th>category</th>\n",
              "      <th>Title</th>\n",
              "      <th>uploads</th>\n",
              "      <th>Country</th>\n",
              "      <th>Abbreviation</th>\n",
              "      <th>channel_type</th>\n",
              "      <th>...</th>\n",
              "      <th>subscribers_for_last_30_days</th>\n",
              "      <th>created_year</th>\n",
              "      <th>created_month</th>\n",
              "      <th>created_date</th>\n",
              "      <th>Gross tertiary education enrollment (%)</th>\n",
              "      <th>Population</th>\n",
              "      <th>Unemployment rate</th>\n",
              "      <th>Urban_population</th>\n",
              "      <th>Latitude</th>\n",
              "      <th>Longitude</th>\n",
              "    </tr>\n",
              "  </thead>\n",
              "  <tbody>\n",
              "    <tr>\n",
              "      <th>0</th>\n",
              "      <td>1</td>\n",
              "      <td>T-Series</td>\n",
              "      <td>245000000</td>\n",
              "      <td>2.280000e+11</td>\n",
              "      <td>Music</td>\n",
              "      <td>T-Series</td>\n",
              "      <td>20082</td>\n",
              "      <td>India</td>\n",
              "      <td>IN</td>\n",
              "      <td>Music</td>\n",
              "      <td>...</td>\n",
              "      <td>2000000.0</td>\n",
              "      <td>2006.0</td>\n",
              "      <td>Mar</td>\n",
              "      <td>13.0</td>\n",
              "      <td>28.1</td>\n",
              "      <td>1.366418e+09</td>\n",
              "      <td>5.36</td>\n",
              "      <td>471031528.0</td>\n",
              "      <td>20.593684</td>\n",
              "      <td>78.962880</td>\n",
              "    </tr>\n",
              "    <tr>\n",
              "      <th>1</th>\n",
              "      <td>2</td>\n",
              "      <td>YouTube Movies</td>\n",
              "      <td>170000000</td>\n",
              "      <td>0.000000e+00</td>\n",
              "      <td>Film &amp; Animation</td>\n",
              "      <td>youtubemovies</td>\n",
              "      <td>1</td>\n",
              "      <td>United States</td>\n",
              "      <td>US</td>\n",
              "      <td>Games</td>\n",
              "      <td>...</td>\n",
              "      <td>NaN</td>\n",
              "      <td>2006.0</td>\n",
              "      <td>Mar</td>\n",
              "      <td>5.0</td>\n",
              "      <td>88.2</td>\n",
              "      <td>3.282395e+08</td>\n",
              "      <td>14.70</td>\n",
              "      <td>270663028.0</td>\n",
              "      <td>37.090240</td>\n",
              "      <td>-95.712891</td>\n",
              "    </tr>\n",
              "    <tr>\n",
              "      <th>2</th>\n",
              "      <td>3</td>\n",
              "      <td>MrBeast</td>\n",
              "      <td>166000000</td>\n",
              "      <td>2.836884e+10</td>\n",
              "      <td>Entertainment</td>\n",
              "      <td>MrBeast</td>\n",
              "      <td>741</td>\n",
              "      <td>United States</td>\n",
              "      <td>US</td>\n",
              "      <td>Entertainment</td>\n",
              "      <td>...</td>\n",
              "      <td>8000000.0</td>\n",
              "      <td>2012.0</td>\n",
              "      <td>Feb</td>\n",
              "      <td>20.0</td>\n",
              "      <td>88.2</td>\n",
              "      <td>3.282395e+08</td>\n",
              "      <td>14.70</td>\n",
              "      <td>270663028.0</td>\n",
              "      <td>37.090240</td>\n",
              "      <td>-95.712891</td>\n",
              "    </tr>\n",
              "    <tr>\n",
              "      <th>3</th>\n",
              "      <td>4</td>\n",
              "      <td>Cocomelon - Nursery Rhymes</td>\n",
              "      <td>162000000</td>\n",
              "      <td>1.640000e+11</td>\n",
              "      <td>Education</td>\n",
              "      <td>Cocomelon - Nursery Rhymes</td>\n",
              "      <td>966</td>\n",
              "      <td>United States</td>\n",
              "      <td>US</td>\n",
              "      <td>Education</td>\n",
              "      <td>...</td>\n",
              "      <td>1000000.0</td>\n",
              "      <td>2006.0</td>\n",
              "      <td>Sep</td>\n",
              "      <td>1.0</td>\n",
              "      <td>88.2</td>\n",
              "      <td>3.282395e+08</td>\n",
              "      <td>14.70</td>\n",
              "      <td>270663028.0</td>\n",
              "      <td>37.090240</td>\n",
              "      <td>-95.712891</td>\n",
              "    </tr>\n",
              "    <tr>\n",
              "      <th>4</th>\n",
              "      <td>5</td>\n",
              "      <td>SET India</td>\n",
              "      <td>159000000</td>\n",
              "      <td>1.480000e+11</td>\n",
              "      <td>Shows</td>\n",
              "      <td>SET India</td>\n",
              "      <td>116536</td>\n",
              "      <td>India</td>\n",
              "      <td>IN</td>\n",
              "      <td>Entertainment</td>\n",
              "      <td>...</td>\n",
              "      <td>1000000.0</td>\n",
              "      <td>2006.0</td>\n",
              "      <td>Sep</td>\n",
              "      <td>20.0</td>\n",
              "      <td>28.1</td>\n",
              "      <td>1.366418e+09</td>\n",
              "      <td>5.36</td>\n",
              "      <td>471031528.0</td>\n",
              "      <td>20.593684</td>\n",
              "      <td>78.962880</td>\n",
              "    </tr>\n",
              "    <tr>\n",
              "      <th>...</th>\n",
              "      <td>...</td>\n",
              "      <td>...</td>\n",
              "      <td>...</td>\n",
              "      <td>...</td>\n",
              "      <td>...</td>\n",
              "      <td>...</td>\n",
              "      <td>...</td>\n",
              "      <td>...</td>\n",
              "      <td>...</td>\n",
              "      <td>...</td>\n",
              "      <td>...</td>\n",
              "      <td>...</td>\n",
              "      <td>...</td>\n",
              "      <td>...</td>\n",
              "      <td>...</td>\n",
              "      <td>...</td>\n",
              "      <td>...</td>\n",
              "      <td>...</td>\n",
              "      <td>...</td>\n",
              "      <td>...</td>\n",
              "      <td>...</td>\n",
              "    </tr>\n",
              "    <tr>\n",
              "      <th>990</th>\n",
              "      <td>991</td>\n",
              "      <td>Natan por Aï¿</td>\n",
              "      <td>12300000</td>\n",
              "      <td>9.029610e+09</td>\n",
              "      <td>Sports</td>\n",
              "      <td>Natan por Aï¿</td>\n",
              "      <td>1200</td>\n",
              "      <td>Brazil</td>\n",
              "      <td>BR</td>\n",
              "      <td>Entertainment</td>\n",
              "      <td>...</td>\n",
              "      <td>700000.0</td>\n",
              "      <td>2017.0</td>\n",
              "      <td>Feb</td>\n",
              "      <td>12.0</td>\n",
              "      <td>51.3</td>\n",
              "      <td>2.125594e+08</td>\n",
              "      <td>12.08</td>\n",
              "      <td>183241641.0</td>\n",
              "      <td>-14.235004</td>\n",
              "      <td>-51.925280</td>\n",
              "    </tr>\n",
              "    <tr>\n",
              "      <th>991</th>\n",
              "      <td>992</td>\n",
              "      <td>Free Fire India Official</td>\n",
              "      <td>12300000</td>\n",
              "      <td>1.674410e+09</td>\n",
              "      <td>People &amp; Blogs</td>\n",
              "      <td>Free Fire India Official</td>\n",
              "      <td>1500</td>\n",
              "      <td>India</td>\n",
              "      <td>IN</td>\n",
              "      <td>Games</td>\n",
              "      <td>...</td>\n",
              "      <td>300000.0</td>\n",
              "      <td>2018.0</td>\n",
              "      <td>Sep</td>\n",
              "      <td>14.0</td>\n",
              "      <td>28.1</td>\n",
              "      <td>1.366418e+09</td>\n",
              "      <td>5.36</td>\n",
              "      <td>471031528.0</td>\n",
              "      <td>20.593684</td>\n",
              "      <td>78.962880</td>\n",
              "    </tr>\n",
              "    <tr>\n",
              "      <th>992</th>\n",
              "      <td>993</td>\n",
              "      <td>Panda</td>\n",
              "      <td>12300000</td>\n",
              "      <td>2.214684e+09</td>\n",
              "      <td>NaN</td>\n",
              "      <td>HybridPanda</td>\n",
              "      <td>2452</td>\n",
              "      <td>United Kingdom</td>\n",
              "      <td>GB</td>\n",
              "      <td>Games</td>\n",
              "      <td>...</td>\n",
              "      <td>1000.0</td>\n",
              "      <td>2006.0</td>\n",
              "      <td>Sep</td>\n",
              "      <td>11.0</td>\n",
              "      <td>60.0</td>\n",
              "      <td>6.683440e+07</td>\n",
              "      <td>3.85</td>\n",
              "      <td>55908316.0</td>\n",
              "      <td>55.378051</td>\n",
              "      <td>-3.435973</td>\n",
              "    </tr>\n",
              "    <tr>\n",
              "      <th>993</th>\n",
              "      <td>994</td>\n",
              "      <td>RobTopGames</td>\n",
              "      <td>12300000</td>\n",
              "      <td>3.741235e+08</td>\n",
              "      <td>Gaming</td>\n",
              "      <td>RobTopGames</td>\n",
              "      <td>39</td>\n",
              "      <td>Sweden</td>\n",
              "      <td>SE</td>\n",
              "      <td>Games</td>\n",
              "      <td>...</td>\n",
              "      <td>100000.0</td>\n",
              "      <td>2012.0</td>\n",
              "      <td>May</td>\n",
              "      <td>9.0</td>\n",
              "      <td>67.0</td>\n",
              "      <td>1.028545e+07</td>\n",
              "      <td>6.48</td>\n",
              "      <td>9021165.0</td>\n",
              "      <td>60.128161</td>\n",
              "      <td>18.643501</td>\n",
              "    </tr>\n",
              "    <tr>\n",
              "      <th>994</th>\n",
              "      <td>995</td>\n",
              "      <td>Make Joke Of</td>\n",
              "      <td>12300000</td>\n",
              "      <td>2.129774e+09</td>\n",
              "      <td>Comedy</td>\n",
              "      <td>Make Joke Of</td>\n",
              "      <td>62</td>\n",
              "      <td>India</td>\n",
              "      <td>IN</td>\n",
              "      <td>Comedy</td>\n",
              "      <td>...</td>\n",
              "      <td>100000.0</td>\n",
              "      <td>2017.0</td>\n",
              "      <td>Aug</td>\n",
              "      <td>1.0</td>\n",
              "      <td>28.1</td>\n",
              "      <td>1.366418e+09</td>\n",
              "      <td>5.36</td>\n",
              "      <td>471031528.0</td>\n",
              "      <td>20.593684</td>\n",
              "      <td>78.962880</td>\n",
              "    </tr>\n",
              "  </tbody>\n",
              "</table>\n",
              "<p>995 rows × 28 columns</p>\n",
              "</div>\n",
              "    <div class=\"colab-df-buttons\">\n",
              "\n",
              "  <div class=\"colab-df-container\">\n",
              "    <button class=\"colab-df-convert\" onclick=\"convertToInteractive('df-3d5c8e6b-d1e1-4923-b940-935c38d3abe2')\"\n",
              "            title=\"Convert this dataframe to an interactive table.\"\n",
              "            style=\"display:none;\">\n",
              "\n",
              "  <svg xmlns=\"http://www.w3.org/2000/svg\" height=\"24px\" viewBox=\"0 -960 960 960\">\n",
              "    <path d=\"M120-120v-720h720v720H120Zm60-500h600v-160H180v160Zm220 220h160v-160H400v160Zm0 220h160v-160H400v160ZM180-400h160v-160H180v160Zm440 0h160v-160H620v160ZM180-180h160v-160H180v160Zm440 0h160v-160H620v160Z\"/>\n",
              "  </svg>\n",
              "    </button>\n",
              "\n",
              "  <style>\n",
              "    .colab-df-container {\n",
              "      display:flex;\n",
              "      gap: 12px;\n",
              "    }\n",
              "\n",
              "    .colab-df-convert {\n",
              "      background-color: #E8F0FE;\n",
              "      border: none;\n",
              "      border-radius: 50%;\n",
              "      cursor: pointer;\n",
              "      display: none;\n",
              "      fill: #1967D2;\n",
              "      height: 32px;\n",
              "      padding: 0 0 0 0;\n",
              "      width: 32px;\n",
              "    }\n",
              "\n",
              "    .colab-df-convert:hover {\n",
              "      background-color: #E2EBFA;\n",
              "      box-shadow: 0px 1px 2px rgba(60, 64, 67, 0.3), 0px 1px 3px 1px rgba(60, 64, 67, 0.15);\n",
              "      fill: #174EA6;\n",
              "    }\n",
              "\n",
              "    .colab-df-buttons div {\n",
              "      margin-bottom: 4px;\n",
              "    }\n",
              "\n",
              "    [theme=dark] .colab-df-convert {\n",
              "      background-color: #3B4455;\n",
              "      fill: #D2E3FC;\n",
              "    }\n",
              "\n",
              "    [theme=dark] .colab-df-convert:hover {\n",
              "      background-color: #434B5C;\n",
              "      box-shadow: 0px 1px 3px 1px rgba(0, 0, 0, 0.15);\n",
              "      filter: drop-shadow(0px 1px 2px rgba(0, 0, 0, 0.3));\n",
              "      fill: #FFFFFF;\n",
              "    }\n",
              "  </style>\n",
              "\n",
              "    <script>\n",
              "      const buttonEl =\n",
              "        document.querySelector('#df-3d5c8e6b-d1e1-4923-b940-935c38d3abe2 button.colab-df-convert');\n",
              "      buttonEl.style.display =\n",
              "        google.colab.kernel.accessAllowed ? 'block' : 'none';\n",
              "\n",
              "      async function convertToInteractive(key) {\n",
              "        const element = document.querySelector('#df-3d5c8e6b-d1e1-4923-b940-935c38d3abe2');\n",
              "        const dataTable =\n",
              "          await google.colab.kernel.invokeFunction('convertToInteractive',\n",
              "                                                    [key], {});\n",
              "        if (!dataTable) return;\n",
              "\n",
              "        const docLinkHtml = 'Like what you see? Visit the ' +\n",
              "          '<a target=\"_blank\" href=https://colab.research.google.com/notebooks/data_table.ipynb>data table notebook</a>'\n",
              "          + ' to learn more about interactive tables.';\n",
              "        element.innerHTML = '';\n",
              "        dataTable['output_type'] = 'display_data';\n",
              "        await google.colab.output.renderOutput(dataTable, element);\n",
              "        const docLink = document.createElement('div');\n",
              "        docLink.innerHTML = docLinkHtml;\n",
              "        element.appendChild(docLink);\n",
              "      }\n",
              "    </script>\n",
              "  </div>\n",
              "\n",
              "\n",
              "<div id=\"df-37103288-c538-4b0e-b01d-d1252b29773a\">\n",
              "  <button class=\"colab-df-quickchart\" onclick=\"quickchart('df-37103288-c538-4b0e-b01d-d1252b29773a')\"\n",
              "            title=\"Suggest charts\"\n",
              "            style=\"display:none;\">\n",
              "\n",
              "<svg xmlns=\"http://www.w3.org/2000/svg\" height=\"24px\"viewBox=\"0 0 24 24\"\n",
              "     width=\"24px\">\n",
              "    <g>\n",
              "        <path d=\"M19 3H5c-1.1 0-2 .9-2 2v14c0 1.1.9 2 2 2h14c1.1 0 2-.9 2-2V5c0-1.1-.9-2-2-2zM9 17H7v-7h2v7zm4 0h-2V7h2v10zm4 0h-2v-4h2v4z\"/>\n",
              "    </g>\n",
              "</svg>\n",
              "  </button>\n",
              "\n",
              "<style>\n",
              "  .colab-df-quickchart {\n",
              "      --bg-color: #E8F0FE;\n",
              "      --fill-color: #1967D2;\n",
              "      --hover-bg-color: #E2EBFA;\n",
              "      --hover-fill-color: #174EA6;\n",
              "      --disabled-fill-color: #AAA;\n",
              "      --disabled-bg-color: #DDD;\n",
              "  }\n",
              "\n",
              "  [theme=dark] .colab-df-quickchart {\n",
              "      --bg-color: #3B4455;\n",
              "      --fill-color: #D2E3FC;\n",
              "      --hover-bg-color: #434B5C;\n",
              "      --hover-fill-color: #FFFFFF;\n",
              "      --disabled-bg-color: #3B4455;\n",
              "      --disabled-fill-color: #666;\n",
              "  }\n",
              "\n",
              "  .colab-df-quickchart {\n",
              "    background-color: var(--bg-color);\n",
              "    border: none;\n",
              "    border-radius: 50%;\n",
              "    cursor: pointer;\n",
              "    display: none;\n",
              "    fill: var(--fill-color);\n",
              "    height: 32px;\n",
              "    padding: 0;\n",
              "    width: 32px;\n",
              "  }\n",
              "\n",
              "  .colab-df-quickchart:hover {\n",
              "    background-color: var(--hover-bg-color);\n",
              "    box-shadow: 0 1px 2px rgba(60, 64, 67, 0.3), 0 1px 3px 1px rgba(60, 64, 67, 0.15);\n",
              "    fill: var(--button-hover-fill-color);\n",
              "  }\n",
              "\n",
              "  .colab-df-quickchart-complete:disabled,\n",
              "  .colab-df-quickchart-complete:disabled:hover {\n",
              "    background-color: var(--disabled-bg-color);\n",
              "    fill: var(--disabled-fill-color);\n",
              "    box-shadow: none;\n",
              "  }\n",
              "\n",
              "  .colab-df-spinner {\n",
              "    border: 2px solid var(--fill-color);\n",
              "    border-color: transparent;\n",
              "    border-bottom-color: var(--fill-color);\n",
              "    animation:\n",
              "      spin 1s steps(1) infinite;\n",
              "  }\n",
              "\n",
              "  @keyframes spin {\n",
              "    0% {\n",
              "      border-color: transparent;\n",
              "      border-bottom-color: var(--fill-color);\n",
              "      border-left-color: var(--fill-color);\n",
              "    }\n",
              "    20% {\n",
              "      border-color: transparent;\n",
              "      border-left-color: var(--fill-color);\n",
              "      border-top-color: var(--fill-color);\n",
              "    }\n",
              "    30% {\n",
              "      border-color: transparent;\n",
              "      border-left-color: var(--fill-color);\n",
              "      border-top-color: var(--fill-color);\n",
              "      border-right-color: var(--fill-color);\n",
              "    }\n",
              "    40% {\n",
              "      border-color: transparent;\n",
              "      border-right-color: var(--fill-color);\n",
              "      border-top-color: var(--fill-color);\n",
              "    }\n",
              "    60% {\n",
              "      border-color: transparent;\n",
              "      border-right-color: var(--fill-color);\n",
              "    }\n",
              "    80% {\n",
              "      border-color: transparent;\n",
              "      border-right-color: var(--fill-color);\n",
              "      border-bottom-color: var(--fill-color);\n",
              "    }\n",
              "    90% {\n",
              "      border-color: transparent;\n",
              "      border-bottom-color: var(--fill-color);\n",
              "    }\n",
              "  }\n",
              "</style>\n",
              "\n",
              "  <script>\n",
              "    async function quickchart(key) {\n",
              "      const quickchartButtonEl =\n",
              "        document.querySelector('#' + key + ' button');\n",
              "      quickchartButtonEl.disabled = true;  // To prevent multiple clicks.\n",
              "      quickchartButtonEl.classList.add('colab-df-spinner');\n",
              "      try {\n",
              "        const charts = await google.colab.kernel.invokeFunction(\n",
              "            'suggestCharts', [key], {});\n",
              "      } catch (error) {\n",
              "        console.error('Error during call to suggestCharts:', error);\n",
              "      }\n",
              "      quickchartButtonEl.classList.remove('colab-df-spinner');\n",
              "      quickchartButtonEl.classList.add('colab-df-quickchart-complete');\n",
              "    }\n",
              "    (() => {\n",
              "      let quickchartButtonEl =\n",
              "        document.querySelector('#df-37103288-c538-4b0e-b01d-d1252b29773a button');\n",
              "      quickchartButtonEl.style.display =\n",
              "        google.colab.kernel.accessAllowed ? 'block' : 'none';\n",
              "    })();\n",
              "  </script>\n",
              "</div>\n",
              "    </div>\n",
              "  </div>\n"
            ]
          },
          "metadata": {},
          "execution_count": 4
        }
      ]
    },
    {
      "cell_type": "code",
      "source": [
        "df['subscribers'].describe()"
      ],
      "metadata": {
        "id": "u3OeTGcGp2sY",
        "colab": {
          "base_uri": "https://localhost:8080/"
        },
        "outputId": "0018cbb4-c0be-4650-ac4d-93e2871d777e"
      },
      "execution_count": 22,
      "outputs": [
        {
          "output_type": "execute_result",
          "data": {
            "text/plain": [
              "count    9.950000e+02\n",
              "mean     2.298241e+07\n",
              "std      1.752611e+07\n",
              "min      1.230000e+07\n",
              "25%      1.450000e+07\n",
              "50%      1.770000e+07\n",
              "75%      2.460000e+07\n",
              "max      2.450000e+08\n",
              "Name: subscribers, dtype: float64"
            ]
          },
          "metadata": {},
          "execution_count": 22
        }
      ]
    },
    {
      "cell_type": "code",
      "source": [
        "mean = df['subscribers'].mean()\n",
        "mean"
      ],
      "metadata": {
        "id": "ud5DMETOU8hS",
        "colab": {
          "base_uri": "https://localhost:8080/"
        },
        "outputId": "a216d525-e498-4dac-de98-6afc49a3cce7"
      },
      "execution_count": 23,
      "outputs": [
        {
          "output_type": "execute_result",
          "data": {
            "text/plain": [
              "22982412.06030151"
            ]
          },
          "metadata": {},
          "execution_count": 23
        }
      ]
    },
    {
      "cell_type": "code",
      "source": [
        "median =  df['subscribers'].median()\n",
        "median"
      ],
      "metadata": {
        "id": "TVB8P3FDVwxM",
        "colab": {
          "base_uri": "https://localhost:8080/"
        },
        "outputId": "b85abd67-5c99-4ba6-ece4-a6056ea2c633"
      },
      "execution_count": 7,
      "outputs": [
        {
          "output_type": "execute_result",
          "data": {
            "text/plain": [
              "17700000.0"
            ]
          },
          "metadata": {},
          "execution_count": 7
        }
      ]
    },
    {
      "cell_type": "code",
      "source": [
        "mode =  df['subscribers'].mode()\n",
        "mode"
      ],
      "metadata": {
        "id": "0xHCgiXCVyhs",
        "colab": {
          "base_uri": "https://localhost:8080/"
        },
        "outputId": "da068c67-b3e5-4260-8d4b-644db19f4c78"
      },
      "execution_count": 8,
      "outputs": [
        {
          "output_type": "execute_result",
          "data": {
            "text/plain": [
              "0    12500000\n",
              "Name: subscribers, dtype: int64"
            ]
          },
          "metadata": {},
          "execution_count": 8
        }
      ]
    },
    {
      "cell_type": "code",
      "source": [
        "min =  df['subscribers'].min()\n",
        "min"
      ],
      "metadata": {
        "id": "HprClRfXVzxW",
        "colab": {
          "base_uri": "https://localhost:8080/"
        },
        "outputId": "5c34c73e-a9f2-4e14-9ac5-7239213e53b2"
      },
      "execution_count": 9,
      "outputs": [
        {
          "output_type": "execute_result",
          "data": {
            "text/plain": [
              "12300000"
            ]
          },
          "metadata": {},
          "execution_count": 9
        }
      ]
    },
    {
      "cell_type": "code",
      "source": [
        "max = df['subscribers'].max()\n",
        "max"
      ],
      "metadata": {
        "id": "sA2gR7IAV1k3",
        "colab": {
          "base_uri": "https://localhost:8080/"
        },
        "outputId": "14b250f8-ad2a-43a8-b380-daa3c243d200"
      },
      "execution_count": 10,
      "outputs": [
        {
          "output_type": "execute_result",
          "data": {
            "text/plain": [
              "245000000"
            ]
          },
          "metadata": {},
          "execution_count": 10
        }
      ]
    },
    {
      "cell_type": "code",
      "source": [
        "std =  df['subscribers'].std()\n",
        "std"
      ],
      "metadata": {
        "id": "BWeXHW3Vovz4",
        "colab": {
          "base_uri": "https://localhost:8080/"
        },
        "outputId": "371b0ffd-672a-4dfb-cf4a-fa5cd742c8bd"
      },
      "execution_count": 11,
      "outputs": [
        {
          "output_type": "execute_result",
          "data": {
            "text/plain": [
              "17526105.340935983"
            ]
          },
          "metadata": {},
          "execution_count": 11
        }
      ]
    },
    {
      "cell_type": "markdown",
      "source": [
        "Вычислите следующие квантили: 25%, 50% (медиана), 75% для числового признака вашего датасета. Затем найдите интерквартильный размах."
      ],
      "metadata": {
        "id": "dZEVd9QIVMyV"
      }
    },
    {
      "cell_type": "code",
      "source": [
        "q1 =  df['subscribers'].quantile(0.25)\n",
        "q1"
      ],
      "metadata": {
        "id": "2UMcBq9dVbVE",
        "colab": {
          "base_uri": "https://localhost:8080/"
        },
        "outputId": "52b60b2a-4b95-457b-b0cb-b97bb968cb4f"
      },
      "execution_count": 12,
      "outputs": [
        {
          "output_type": "execute_result",
          "data": {
            "text/plain": [
              "14500000.0"
            ]
          },
          "metadata": {},
          "execution_count": 12
        }
      ]
    },
    {
      "cell_type": "code",
      "source": [
        "q2 =  df['subscribers'].quantile(0.50)\n",
        "q2"
      ],
      "metadata": {
        "id": "8joJvKduWJsC",
        "colab": {
          "base_uri": "https://localhost:8080/"
        },
        "outputId": "400a0764-fa41-498d-9019-ce98f7a2d411"
      },
      "execution_count": 13,
      "outputs": [
        {
          "output_type": "execute_result",
          "data": {
            "text/plain": [
              "17700000.0"
            ]
          },
          "metadata": {},
          "execution_count": 13
        }
      ]
    },
    {
      "cell_type": "code",
      "source": [
        "q3 = df['subscribers'].quantile(0.75)\n",
        "q3"
      ],
      "metadata": {
        "id": "pQTQqM3GWLOV",
        "colab": {
          "base_uri": "https://localhost:8080/"
        },
        "outputId": "5dbbc58a-a7cd-4d0c-fa21-600c38ff8f27"
      },
      "execution_count": 14,
      "outputs": [
        {
          "output_type": "execute_result",
          "data": {
            "text/plain": [
              "24600000.0"
            ]
          },
          "metadata": {},
          "execution_count": 14
        }
      ]
    },
    {
      "cell_type": "markdown",
      "source": [],
      "metadata": {
        "id": "SAW8DnnK9kCL"
      }
    },
    {
      "cell_type": "code",
      "source": [
        "iqr = q3-q1\n",
        "iqr\n",
        "\n",
        "agg = df.groupby('category')['subscribers'].describe()\n",
        "print(agg)"
      ],
      "metadata": {
        "id": "lAwZHIbfWMmH",
        "colab": {
          "base_uri": "https://localhost:8080/"
        },
        "outputId": "b836cb05-f66c-47e5-98a3-5b182ab6c1ab"
      },
      "execution_count": 28,
      "outputs": [
        {
          "output_type": "stream",
          "name": "stdout",
          "text": [
            "                       count          mean           std         min  \\\n",
            "category                                                               \n",
            "Autos & Vehicles         2.0  1.785000e+07  5.303301e+06  14100000.0   \n",
            "Comedy                  69.0  2.012319e+07  7.699907e+06  12300000.0   \n",
            "Education               45.0  2.654222e+07  2.484001e+07  12400000.0   \n",
            "Entertainment          241.0  2.140332e+07  1.392571e+07  12400000.0   \n",
            "Film & Animation        46.0  2.858478e+07  2.523212e+07  12400000.0   \n",
            "Gaming                  94.0  2.085213e+07  1.267528e+07  12300000.0   \n",
            "Howto & Style           40.0  1.939000e+07  1.174386e+07  12400000.0   \n",
            "Movies                   2.0  2.565000e+07  3.889087e+06  22900000.0   \n",
            "Music                  202.0  2.571782e+07  2.107906e+07  12400000.0   \n",
            "News & Politics         26.0  2.063077e+07  9.920918e+06  13400000.0   \n",
            "Nonprofits & Activism    2.0  2.775000e+07  1.534422e+07  16900000.0   \n",
            "People & Blogs         132.0  2.105606e+07  1.436234e+07  12300000.0   \n",
            "Pets & Animals           4.0  1.810000e+07  4.988654e+06  13600000.0   \n",
            "Science & Technology    17.0  1.861765e+07  5.066956e+06  12500000.0   \n",
            "Shows                   13.0  4.161538e+07  4.113913e+07  12900000.0   \n",
            "Sports                  11.0  2.710909e+07  2.646826e+07  12300000.0   \n",
            "Trailers                 2.0  3.900000e+07  3.394113e+06  36600000.0   \n",
            "Travel & Events          1.0  1.250000e+07           NaN  12500000.0   \n",
            "\n",
            "                              25%         50%         75%          max  \n",
            "category                                                                \n",
            "Autos & Vehicles       15975000.0  17850000.0  19725000.0   21600000.0  \n",
            "Comedy                 14300000.0  17100000.0  24100000.0   44200000.0  \n",
            "Education              14700000.0  18800000.0  28900000.0  162000000.0  \n",
            "Entertainment          14500000.0  17100000.0  23300000.0  166000000.0  \n",
            "Film & Animation       17725000.0  22200000.0  28225000.0  170000000.0  \n",
            "Gaming                 14250000.0  16300000.0  22450000.0  111000000.0  \n",
            "Howto & Style          13650000.0  15300000.0  20800000.0   80100000.0  \n",
            "Movies                 24275000.0  25650000.0  27025000.0   28400000.0  \n",
            "Music                  14800000.0  19500000.0  29525000.0  245000000.0  \n",
            "News & Politics        15025000.0  16550000.0  21075000.0   57600000.0  \n",
            "Nonprofits & Activism  22325000.0  27750000.0  33175000.0   38600000.0  \n",
            "People & Blogs         14375000.0  17550000.0  22375000.0  112000000.0  \n",
            "Pets & Animals         14050000.0  17550000.0  21600000.0   23700000.0  \n",
            "Science & Technology   15400000.0  17300000.0  21800000.0   31700000.0  \n",
            "Shows                  17900000.0  23100000.0  42400000.0  159000000.0  \n",
            "Sports                 13850000.0  16400000.0  20050000.0   96000000.0  \n",
            "Trailers               37800000.0  39000000.0  40200000.0   41400000.0  \n",
            "Travel & Events        12500000.0  12500000.0  12500000.0   12500000.0  \n"
          ]
        }
      ]
    },
    {
      "cell_type": "markdown",
      "source": [
        "Какие выводы можно сделать исходя из полученных статистических данных?"
      ],
      "metadata": {
        "id": "vm0-5sY4WX2I"
      }
    },
    {
      "cell_type": "markdown",
      "source": [
        "**Ответ здесь**\n",
        "\n",
        "```\n",
        "Видим, что что значения меняются только в зависимости от ранга. Чем выше числовое значение ранга, тем меньше числовые значения подписчиков.\n",
        "\n",
        "\n"
      ],
      "metadata": {
        "id": "OnO1hVGyWe8D"
      }
    },
    {
      "cell_type": "markdown",
      "source": [
        "##Основы визуализации"
      ],
      "metadata": {
        "id": "zDISZbQVWk6m"
      }
    },
    {
      "cell_type": "markdown",
      "source": [
        " Постройте гистограмму переменной (X) относительно категориального признака (Y) из своего датасета."
      ],
      "metadata": {
        "id": "aU8cakZvZBuj"
      }
    },
    {
      "cell_type": "code",
      "source": [
        "import plotly.express as px\n",
        "import matplotlib.pyplot as plt\n",
        "fig = px.histogram(df, y='subscribers', x='rank', barmode='group', text_auto=True, color_discrete_sequence=px.colors.qualitative.Alphabet)\n",
        "fig.update_yaxes(categoryorder='total ascending')"
      ],
      "metadata": {
        "id": "9-KTIzdfZLmP",
        "colab": {
          "base_uri": "https://localhost:8080/",
          "height": 542
        },
        "outputId": "74584b67-6f6d-4c23-c4cb-95f33fb0779e"
      },
      "execution_count": 16,
      "outputs": [
        {
          "output_type": "display_data",
          "data": {
            "text/html": [
              "<html>\n",
              "<head><meta charset=\"utf-8\" /></head>\n",
              "<body>\n",
              "    <div>            <script src=\"https://cdnjs.cloudflare.com/ajax/libs/mathjax/2.7.5/MathJax.js?config=TeX-AMS-MML_SVG\"></script><script type=\"text/javascript\">if (window.MathJax && window.MathJax.Hub && window.MathJax.Hub.Config) {window.MathJax.Hub.Config({SVG: {font: \"STIX-Web\"}});}</script>                <script type=\"text/javascript\">window.PlotlyConfig = {MathJaxConfig: 'local'};</script>\n",
              "        <script charset=\"utf-8\" src=\"https://cdn.plot.ly/plotly-2.24.1.min.js\"></script>                <div id=\"fdf50eb2-5bb6-4474-a024-ec576435dd92\" class=\"plotly-graph-div\" style=\"height:525px; width:100%;\"></div>            <script type=\"text/javascript\">                                    window.PLOTLYENV=window.PLOTLYENV || {};                                    if (document.getElementById(\"fdf50eb2-5bb6-4474-a024-ec576435dd92\")) {                    Plotly.newPlot(                        \"fdf50eb2-5bb6-4474-a024-ec576435dd92\",                        [{\"alignmentgroup\":\"True\",\"bingroup\":\"x\",\"histfunc\":\"sum\",\"hovertemplate\":\"rank=%{x}\\u003cbr\\u003esum of subscribers=%{y}\\u003cextra\\u003e\\u003c\\u002fextra\\u003e\",\"legendgroup\":\"\",\"marker\":{\"color\":\"#AA0DFE\",\"pattern\":{\"shape\":\"\"}},\"name\":\"\",\"offsetgroup\":\"\",\"orientation\":\"v\",\"showlegend\":false,\"texttemplate\":\"%{value}\",\"x\":[1,2,3,4,5,6,7,8,9,10,11,12,13,14,15,16,17,18,19,20,21,22,23,24,25,26,27,28,29,30,31,32,33,34,35,36,37,38,39,40,41,42,43,44,45,46,47,48,49,50,51,52,53,54,55,56,57,58,59,60,61,62,63,64,65,66,67,68,69,70,71,72,73,74,75,76,77,78,79,80,81,82,83,84,85,86,87,88,89,90,91,92,93,94,95,96,97,98,99,100,101,102,103,104,105,106,107,108,109,110,111,112,113,114,115,116,117,118,119,120,121,122,123,124,125,126,127,128,129,130,131,132,133,134,135,136,137,138,139,140,141,142,143,144,145,146,147,148,149,150,151,152,153,154,155,156,157,158,159,160,161,162,163,164,165,166,167,168,169,170,171,172,173,174,175,176,177,178,179,180,181,182,183,184,185,186,187,188,189,190,191,192,193,194,195,196,197,198,199,200,201,202,203,204,205,206,207,208,209,210,211,212,213,214,215,216,217,218,219,220,221,222,223,224,225,226,227,228,229,230,231,232,233,234,235,236,237,238,239,240,241,242,243,244,245,246,247,248,249,250,251,252,253,254,255,256,257,258,259,260,261,262,263,264,265,266,267,268,269,270,271,272,273,274,275,276,277,278,279,280,281,282,283,284,285,286,287,288,289,290,291,292,293,294,295,296,297,298,299,300,301,302,303,304,305,306,307,308,309,310,311,312,313,314,315,316,317,318,319,320,321,322,323,324,325,326,327,328,329,330,331,332,333,334,335,336,337,338,339,340,341,342,343,344,345,346,347,348,349,350,351,352,353,354,355,356,357,358,359,360,361,362,363,364,365,366,367,368,369,370,371,372,373,374,375,376,377,378,379,380,381,382,383,384,385,386,387,388,389,390,391,392,393,394,395,396,397,398,399,400,401,402,403,404,405,406,407,408,409,410,411,412,413,414,415,416,417,418,419,420,421,422,423,424,425,426,427,428,429,430,431,432,433,434,435,436,437,438,439,440,441,442,443,444,445,446,447,448,449,450,451,452,453,454,455,456,457,458,459,460,461,462,463,464,465,466,467,468,469,470,471,472,473,474,475,476,477,478,479,480,481,482,483,484,485,486,487,488,489,490,491,492,493,494,495,496,497,498,499,500,501,502,503,504,505,506,507,508,509,510,511,512,513,514,515,516,517,518,519,520,521,522,523,524,525,526,527,528,529,530,531,532,533,534,535,536,537,538,539,540,541,542,543,544,545,546,547,548,549,550,551,552,553,554,555,556,557,558,559,560,561,562,563,564,565,566,567,568,569,570,571,572,573,574,575,576,577,578,579,580,581,582,583,584,585,586,587,588,589,590,591,592,593,594,595,596,597,598,599,600,601,602,603,604,605,606,607,608,609,610,611,612,613,614,615,616,617,618,619,620,621,622,623,624,625,626,627,628,629,630,631,632,633,634,635,636,637,638,639,640,641,642,643,644,645,646,647,648,649,650,651,652,653,654,655,656,657,658,659,660,661,662,663,664,665,666,667,668,669,670,671,672,673,674,675,676,677,678,679,680,681,682,683,684,685,686,687,688,689,690,691,692,693,694,695,696,697,698,699,700,701,702,703,704,705,706,707,708,709,710,711,712,713,714,715,716,717,718,719,720,721,722,723,724,725,726,727,728,729,730,731,732,733,734,735,736,737,738,739,740,741,742,743,744,745,746,747,748,749,750,751,752,753,754,755,756,757,758,759,760,761,762,763,764,765,766,767,768,769,770,771,772,773,774,775,776,777,778,779,780,781,782,783,784,785,786,787,788,789,790,791,792,793,794,795,796,797,798,799,800,801,802,803,804,805,806,807,808,809,810,811,812,813,814,815,816,817,818,819,820,821,822,823,824,825,826,827,828,829,830,831,832,833,834,835,836,837,838,839,840,841,842,843,844,845,846,847,848,849,850,851,852,853,854,855,856,857,858,859,860,861,862,863,864,865,866,867,868,869,870,871,872,873,874,875,876,877,878,879,880,881,882,883,884,885,886,887,888,889,890,891,892,893,894,895,896,897,898,899,900,901,902,903,904,905,906,907,908,909,910,911,912,913,914,915,916,917,918,919,920,921,922,923,924,925,926,927,928,929,930,931,932,933,934,935,936,937,938,939,940,941,942,943,944,945,946,947,948,949,950,951,952,953,954,955,956,957,958,959,960,961,962,963,964,965,966,967,968,969,970,971,972,973,974,975,976,977,978,979,980,981,982,983,984,985,986,987,988,989,990,991,992,993,994,995],\"xaxis\":\"x\",\"y\":[245000000,170000000,166000000,162000000,159000000,119000000,112000000,111000000,106000000,98900000,96700000,96000000,93600000,89800000,86900000,83000000,80100000,75600000,75000000,71600000,71300000,70500000,68200000,66500000,65900000,65600000,64600000,61000000,59500000,59500000,59300000,58400000,58000000,57600000,57200000,56900000,56400000,54600000,54000000,53500000,53300000,52900000,52700000,52200000,48100000,47900000,47500000,47400000,46800000,46600000,46300000,46100000,46100000,45500000,45200000,44700000,44600000,44500000,44200000,44200000,44200000,43700000,43600000,43500000,43200000,43200000,42500000,42400000,42400000,41900000,41400000,41300000,40900000,40600000,40400000,40300000,39700000,39400000,39200000,39200000,39200000,39100000,39000000,38900000,38600000,38400000,38300000,38200000,38200000,38200000,38000000,37900000,37600000,37500000,37200000,37000000,37000000,36700000,36600000,36600000,36500000,36300000,36300000,36200000,36100000,35700000,35500000,35500000,35400000,35400000,35200000,35200000,34900000,34600000,34400000,34300000,34100000,34000000,34000000,33800000,33800000,33700000,33700000,33600000,33500000,33500000,33500000,33400000,33400000,33300000,32800000,32700000,32700000,32700000,32600000,32200000,32100000,32100000,32100000,32000000,31900000,31900000,31800000,31700000,31700000,31700000,31700000,31600000,31600000,31400000,31400000,31200000,31200000,31200000,30700000,30700000,30700000,30500000,30500000,30400000,30400000,30400000,30300000,30200000,30200000,30200000,30100000,30100000,30100000,30100000,30000000,29800000,29600000,29300000,29300000,29200000,29200000,29200000,29000000,28900000,28500000,28400000,28400000,28300000,28300000,28300000,28200000,28200000,28100000,28000000,27800000,27800000,27700000,27500000,27500000,27400000,27400000,27400000,27300000,27300000,27100000,27100000,27100000,27000000,26900000,26700000,26700000,26700000,26500000,26500000,26400000,26400000,26400000,26300000,26200000,26200000,26100000,26100000,26000000,26000000,26000000,25900000,25800000,25700000,25700000,25700000,25600000,25600000,25500000,25500000,25400000,25400000,25300000,25200000,25200000,25200000,25200000,25200000,25100000,25100000,25000000,25000000,24800000,24800000,24800000,24800000,24700000,24700000,24600000,24600000,24500000,24400000,24300000,24300000,24200000,24200000,24100000,24100000,24100000,24100000,24100000,24100000,24100000,24000000,24000000,24000000,23900000,23900000,23900000,23800000,23800000,23800000,23700000,23700000,23700000,23700000,23600000,23600000,23600000,23600000,23600000,23500000,23500000,23400000,23400000,23300000,23200000,23200000,23200000,23100000,23100000,23100000,23100000,23100000,23000000,23000000,23000000,23000000,22900000,22900000,22900000,22900000,22800000,22700000,22700000,22600000,22600000,22600000,22600000,22600000,22600000,22500000,22500000,22500000,22400000,22300000,22300000,22200000,22000000,22000000,22000000,21900000,21900000,21900000,21900000,21800000,21800000,21800000,21800000,21800000,21800000,21700000,21700000,21600000,21600000,21600000,21500000,21500000,21500000,21500000,21400000,21400000,21300000,21300000,21300000,21300000,21300000,21300000,21200000,21200000,21100000,21100000,21000000,21000000,21000000,21000000,20900000,20900000,20900000,20900000,20900000,20900000,20800000,20800000,20700000,20700000,20700000,20700000,20700000,20600000,20600000,20600000,20500000,20500000,20500000,20400000,20400000,20400000,20400000,20400000,20400000,20300000,20300000,20300000,20200000,20200000,20200000,20200000,20200000,20200000,20200000,20100000,20100000,20100000,20100000,20100000,20100000,20100000,20100000,20100000,20000000,20000000,20000000,20000000,20000000,19900000,19800000,19800000,19800000,19700000,19700000,19700000,19700000,19700000,19600000,19600000,19600000,19600000,19600000,19500000,19400000,19400000,19400000,19400000,19300000,19300000,19300000,19200000,19200000,19100000,19100000,19100000,19100000,19000000,19000000,19000000,19000000,19000000,19000000,18900000,18900000,18900000,18800000,18800000,18800000,18800000,18800000,18800000,18800000,18700000,18700000,18600000,18600000,18600000,18600000,18500000,18500000,18500000,18500000,18500000,18400000,18400000,18400000,18400000,18400000,18300000,18300000,18300000,18300000,18200000,18200000,18100000,18100000,18100000,18100000,18100000,18100000,18000000,18000000,18000000,18000000,18000000,18000000,18000000,17900000,17900000,17900000,17900000,17900000,17900000,17900000,17900000,17900000,17800000,17800000,17700000,17700000,17700000,17700000,17700000,17700000,17700000,17700000,17700000,17700000,17600000,17600000,17600000,17600000,17600000,17600000,17500000,17500000,17500000,17500000,17400000,17400000,17400000,17400000,17300000,17300000,17300000,17300000,17200000,17200000,17200000,17200000,17200000,17200000,17100000,17100000,17100000,17000000,17000000,17000000,17000000,16900000,16900000,16900000,16900000,16900000,16900000,16900000,16800000,16800000,16800000,16800000,16800000,16700000,16700000,16700000,16700000,16700000,16600000,16600000,16600000,16600000,16600000,16600000,16600000,16600000,16500000,16500000,16500000,16500000,16400000,16400000,16400000,16400000,16400000,16400000,16400000,16300000,16300000,16300000,16300000,16300000,16300000,16300000,16300000,16300000,16200000,16200000,16200000,16200000,16200000,16200000,16200000,16200000,16200000,16200000,16100000,16100000,16100000,16100000,16100000,16100000,16100000,16100000,16100000,16100000,16000000,16000000,16000000,16000000,16000000,15900000,15900000,15900000,15900000,15900000,15900000,15900000,15800000,15800000,15800000,15800000,15700000,15700000,15700000,15700000,15700000,15700000,15600000,15600000,15600000,15600000,15600000,15500000,15500000,15500000,15500000,15500000,15500000,15500000,15500000,15500000,15500000,15400000,15400000,15400000,15400000,15400000,15400000,15400000,15400000,15300000,15300000,15300000,15300000,15300000,15200000,15200000,15200000,15200000,15200000,15200000,15200000,15200000,15200000,15100000,15100000,15100000,15100000,15100000,15100000,15100000,15100000,15100000,15100000,15100000,15100000,15100000,15100000,15100000,15100000,15000000,15000000,15000000,15000000,15000000,15000000,15000000,15000000,15000000,15000000,15000000,15000000,15000000,15000000,15000000,15000000,15000000,14900000,14900000,14900000,14900000,14900000,14900000,14900000,14900000,14900000,14900000,14800000,14800000,14800000,14800000,14800000,14800000,14800000,14800000,14800000,14800000,14800000,14700000,14700000,14700000,14700000,14700000,14700000,14700000,14700000,14700000,14700000,14700000,14600000,14600000,14600000,14600000,14600000,14600000,14600000,14600000,14600000,14600000,14500000,14500000,14500000,14500000,14500000,14500000,14500000,14500000,14500000,14500000,14500000,14500000,14500000,14500000,14500000,14500000,14500000,14400000,14400000,14400000,14400000,14400000,14400000,14400000,14400000,14400000,14400000,14400000,14400000,14400000,14400000,14400000,14400000,14300000,14300000,14200000,14200000,14200000,14200000,14200000,14200000,14200000,14200000,14200000,14200000,14200000,14200000,14100000,14100000,14100000,14100000,14100000,14100000,14100000,14100000,14100000,14100000,14000000,14000000,14000000,14000000,14000000,14000000,14000000,14000000,14000000,14000000,13900000,13900000,13900000,13900000,13900000,13900000,13900000,13900000,13900000,13900000,13900000,13800000,13800000,13800000,13800000,13800000,13800000,13800000,13800000,13700000,13700000,13700000,13700000,13700000,13700000,13700000,13700000,13700000,13700000,13600000,13600000,13600000,13600000,13600000,13600000,13600000,13500000,13500000,13500000,13500000,13500000,13500000,13500000,13500000,13500000,13500000,13500000,13400000,13400000,13400000,13400000,13400000,13400000,13400000,13400000,13400000,13400000,13400000,13300000,13300000,13300000,13300000,13300000,13300000,13300000,13300000,13300000,13300000,13300000,13300000,13300000,13300000,13200000,13200000,13200000,13200000,13200000,13200000,13200000,13200000,13200000,13200000,13200000,13200000,13100000,13100000,13100000,13100000,13100000,13100000,13100000,13100000,13100000,13100000,13100000,13100000,13100000,13100000,13000000,13000000,13000000,13000000,13000000,13000000,13000000,13000000,13000000,13000000,13000000,12900000,12900000,12900000,12900000,12900000,12900000,12900000,12900000,12900000,12900000,12900000,12800000,12800000,12800000,12800000,12800000,12800000,12800000,12800000,12700000,12700000,12700000,12700000,12700000,12700000,12700000,12700000,12700000,12700000,12700000,12700000,12700000,12600000,12600000,12600000,12600000,12600000,12500000,12500000,12500000,12500000,12500000,12500000,12500000,12500000,12500000,12500000,12500000,12500000,12500000,12500000,12500000,12500000,12500000,12500000,12500000,12500000,12500000,12500000,12400000,12400000,12400000,12400000,12400000,12400000,12400000,12400000,12400000,12400000,12400000,12400000,12400000,12400000,12400000,12400000,12400000,12400000,12400000,12400000,12300000,12300000,12300000,12300000,12300000],\"yaxis\":\"y\",\"type\":\"histogram\"}],                        {\"template\":{\"data\":{\"histogram2dcontour\":[{\"type\":\"histogram2dcontour\",\"colorbar\":{\"outlinewidth\":0,\"ticks\":\"\"},\"colorscale\":[[0.0,\"#0d0887\"],[0.1111111111111111,\"#46039f\"],[0.2222222222222222,\"#7201a8\"],[0.3333333333333333,\"#9c179e\"],[0.4444444444444444,\"#bd3786\"],[0.5555555555555556,\"#d8576b\"],[0.6666666666666666,\"#ed7953\"],[0.7777777777777778,\"#fb9f3a\"],[0.8888888888888888,\"#fdca26\"],[1.0,\"#f0f921\"]]}],\"choropleth\":[{\"type\":\"choropleth\",\"colorbar\":{\"outlinewidth\":0,\"ticks\":\"\"}}],\"histogram2d\":[{\"type\":\"histogram2d\",\"colorbar\":{\"outlinewidth\":0,\"ticks\":\"\"},\"colorscale\":[[0.0,\"#0d0887\"],[0.1111111111111111,\"#46039f\"],[0.2222222222222222,\"#7201a8\"],[0.3333333333333333,\"#9c179e\"],[0.4444444444444444,\"#bd3786\"],[0.5555555555555556,\"#d8576b\"],[0.6666666666666666,\"#ed7953\"],[0.7777777777777778,\"#fb9f3a\"],[0.8888888888888888,\"#fdca26\"],[1.0,\"#f0f921\"]]}],\"heatmap\":[{\"type\":\"heatmap\",\"colorbar\":{\"outlinewidth\":0,\"ticks\":\"\"},\"colorscale\":[[0.0,\"#0d0887\"],[0.1111111111111111,\"#46039f\"],[0.2222222222222222,\"#7201a8\"],[0.3333333333333333,\"#9c179e\"],[0.4444444444444444,\"#bd3786\"],[0.5555555555555556,\"#d8576b\"],[0.6666666666666666,\"#ed7953\"],[0.7777777777777778,\"#fb9f3a\"],[0.8888888888888888,\"#fdca26\"],[1.0,\"#f0f921\"]]}],\"heatmapgl\":[{\"type\":\"heatmapgl\",\"colorbar\":{\"outlinewidth\":0,\"ticks\":\"\"},\"colorscale\":[[0.0,\"#0d0887\"],[0.1111111111111111,\"#46039f\"],[0.2222222222222222,\"#7201a8\"],[0.3333333333333333,\"#9c179e\"],[0.4444444444444444,\"#bd3786\"],[0.5555555555555556,\"#d8576b\"],[0.6666666666666666,\"#ed7953\"],[0.7777777777777778,\"#fb9f3a\"],[0.8888888888888888,\"#fdca26\"],[1.0,\"#f0f921\"]]}],\"contourcarpet\":[{\"type\":\"contourcarpet\",\"colorbar\":{\"outlinewidth\":0,\"ticks\":\"\"}}],\"contour\":[{\"type\":\"contour\",\"colorbar\":{\"outlinewidth\":0,\"ticks\":\"\"},\"colorscale\":[[0.0,\"#0d0887\"],[0.1111111111111111,\"#46039f\"],[0.2222222222222222,\"#7201a8\"],[0.3333333333333333,\"#9c179e\"],[0.4444444444444444,\"#bd3786\"],[0.5555555555555556,\"#d8576b\"],[0.6666666666666666,\"#ed7953\"],[0.7777777777777778,\"#fb9f3a\"],[0.8888888888888888,\"#fdca26\"],[1.0,\"#f0f921\"]]}],\"surface\":[{\"type\":\"surface\",\"colorbar\":{\"outlinewidth\":0,\"ticks\":\"\"},\"colorscale\":[[0.0,\"#0d0887\"],[0.1111111111111111,\"#46039f\"],[0.2222222222222222,\"#7201a8\"],[0.3333333333333333,\"#9c179e\"],[0.4444444444444444,\"#bd3786\"],[0.5555555555555556,\"#d8576b\"],[0.6666666666666666,\"#ed7953\"],[0.7777777777777778,\"#fb9f3a\"],[0.8888888888888888,\"#fdca26\"],[1.0,\"#f0f921\"]]}],\"mesh3d\":[{\"type\":\"mesh3d\",\"colorbar\":{\"outlinewidth\":0,\"ticks\":\"\"}}],\"scatter\":[{\"fillpattern\":{\"fillmode\":\"overlay\",\"size\":10,\"solidity\":0.2},\"type\":\"scatter\"}],\"parcoords\":[{\"type\":\"parcoords\",\"line\":{\"colorbar\":{\"outlinewidth\":0,\"ticks\":\"\"}}}],\"scatterpolargl\":[{\"type\":\"scatterpolargl\",\"marker\":{\"colorbar\":{\"outlinewidth\":0,\"ticks\":\"\"}}}],\"bar\":[{\"error_x\":{\"color\":\"#2a3f5f\"},\"error_y\":{\"color\":\"#2a3f5f\"},\"marker\":{\"line\":{\"color\":\"#E5ECF6\",\"width\":0.5},\"pattern\":{\"fillmode\":\"overlay\",\"size\":10,\"solidity\":0.2}},\"type\":\"bar\"}],\"scattergeo\":[{\"type\":\"scattergeo\",\"marker\":{\"colorbar\":{\"outlinewidth\":0,\"ticks\":\"\"}}}],\"scatterpolar\":[{\"type\":\"scatterpolar\",\"marker\":{\"colorbar\":{\"outlinewidth\":0,\"ticks\":\"\"}}}],\"histogram\":[{\"marker\":{\"pattern\":{\"fillmode\":\"overlay\",\"size\":10,\"solidity\":0.2}},\"type\":\"histogram\"}],\"scattergl\":[{\"type\":\"scattergl\",\"marker\":{\"colorbar\":{\"outlinewidth\":0,\"ticks\":\"\"}}}],\"scatter3d\":[{\"type\":\"scatter3d\",\"line\":{\"colorbar\":{\"outlinewidth\":0,\"ticks\":\"\"}},\"marker\":{\"colorbar\":{\"outlinewidth\":0,\"ticks\":\"\"}}}],\"scattermapbox\":[{\"type\":\"scattermapbox\",\"marker\":{\"colorbar\":{\"outlinewidth\":0,\"ticks\":\"\"}}}],\"scatterternary\":[{\"type\":\"scatterternary\",\"marker\":{\"colorbar\":{\"outlinewidth\":0,\"ticks\":\"\"}}}],\"scattercarpet\":[{\"type\":\"scattercarpet\",\"marker\":{\"colorbar\":{\"outlinewidth\":0,\"ticks\":\"\"}}}],\"carpet\":[{\"aaxis\":{\"endlinecolor\":\"#2a3f5f\",\"gridcolor\":\"white\",\"linecolor\":\"white\",\"minorgridcolor\":\"white\",\"startlinecolor\":\"#2a3f5f\"},\"baxis\":{\"endlinecolor\":\"#2a3f5f\",\"gridcolor\":\"white\",\"linecolor\":\"white\",\"minorgridcolor\":\"white\",\"startlinecolor\":\"#2a3f5f\"},\"type\":\"carpet\"}],\"table\":[{\"cells\":{\"fill\":{\"color\":\"#EBF0F8\"},\"line\":{\"color\":\"white\"}},\"header\":{\"fill\":{\"color\":\"#C8D4E3\"},\"line\":{\"color\":\"white\"}},\"type\":\"table\"}],\"barpolar\":[{\"marker\":{\"line\":{\"color\":\"#E5ECF6\",\"width\":0.5},\"pattern\":{\"fillmode\":\"overlay\",\"size\":10,\"solidity\":0.2}},\"type\":\"barpolar\"}],\"pie\":[{\"automargin\":true,\"type\":\"pie\"}]},\"layout\":{\"autotypenumbers\":\"strict\",\"colorway\":[\"#636efa\",\"#EF553B\",\"#00cc96\",\"#ab63fa\",\"#FFA15A\",\"#19d3f3\",\"#FF6692\",\"#B6E880\",\"#FF97FF\",\"#FECB52\"],\"font\":{\"color\":\"#2a3f5f\"},\"hovermode\":\"closest\",\"hoverlabel\":{\"align\":\"left\"},\"paper_bgcolor\":\"white\",\"plot_bgcolor\":\"#E5ECF6\",\"polar\":{\"bgcolor\":\"#E5ECF6\",\"angularaxis\":{\"gridcolor\":\"white\",\"linecolor\":\"white\",\"ticks\":\"\"},\"radialaxis\":{\"gridcolor\":\"white\",\"linecolor\":\"white\",\"ticks\":\"\"}},\"ternary\":{\"bgcolor\":\"#E5ECF6\",\"aaxis\":{\"gridcolor\":\"white\",\"linecolor\":\"white\",\"ticks\":\"\"},\"baxis\":{\"gridcolor\":\"white\",\"linecolor\":\"white\",\"ticks\":\"\"},\"caxis\":{\"gridcolor\":\"white\",\"linecolor\":\"white\",\"ticks\":\"\"}},\"coloraxis\":{\"colorbar\":{\"outlinewidth\":0,\"ticks\":\"\"}},\"colorscale\":{\"sequential\":[[0.0,\"#0d0887\"],[0.1111111111111111,\"#46039f\"],[0.2222222222222222,\"#7201a8\"],[0.3333333333333333,\"#9c179e\"],[0.4444444444444444,\"#bd3786\"],[0.5555555555555556,\"#d8576b\"],[0.6666666666666666,\"#ed7953\"],[0.7777777777777778,\"#fb9f3a\"],[0.8888888888888888,\"#fdca26\"],[1.0,\"#f0f921\"]],\"sequentialminus\":[[0.0,\"#0d0887\"],[0.1111111111111111,\"#46039f\"],[0.2222222222222222,\"#7201a8\"],[0.3333333333333333,\"#9c179e\"],[0.4444444444444444,\"#bd3786\"],[0.5555555555555556,\"#d8576b\"],[0.6666666666666666,\"#ed7953\"],[0.7777777777777778,\"#fb9f3a\"],[0.8888888888888888,\"#fdca26\"],[1.0,\"#f0f921\"]],\"diverging\":[[0,\"#8e0152\"],[0.1,\"#c51b7d\"],[0.2,\"#de77ae\"],[0.3,\"#f1b6da\"],[0.4,\"#fde0ef\"],[0.5,\"#f7f7f7\"],[0.6,\"#e6f5d0\"],[0.7,\"#b8e186\"],[0.8,\"#7fbc41\"],[0.9,\"#4d9221\"],[1,\"#276419\"]]},\"xaxis\":{\"gridcolor\":\"white\",\"linecolor\":\"white\",\"ticks\":\"\",\"title\":{\"standoff\":15},\"zerolinecolor\":\"white\",\"automargin\":true,\"zerolinewidth\":2},\"yaxis\":{\"gridcolor\":\"white\",\"linecolor\":\"white\",\"ticks\":\"\",\"title\":{\"standoff\":15},\"zerolinecolor\":\"white\",\"automargin\":true,\"zerolinewidth\":2},\"scene\":{\"xaxis\":{\"backgroundcolor\":\"#E5ECF6\",\"gridcolor\":\"white\",\"linecolor\":\"white\",\"showbackground\":true,\"ticks\":\"\",\"zerolinecolor\":\"white\",\"gridwidth\":2},\"yaxis\":{\"backgroundcolor\":\"#E5ECF6\",\"gridcolor\":\"white\",\"linecolor\":\"white\",\"showbackground\":true,\"ticks\":\"\",\"zerolinecolor\":\"white\",\"gridwidth\":2},\"zaxis\":{\"backgroundcolor\":\"#E5ECF6\",\"gridcolor\":\"white\",\"linecolor\":\"white\",\"showbackground\":true,\"ticks\":\"\",\"zerolinecolor\":\"white\",\"gridwidth\":2}},\"shapedefaults\":{\"line\":{\"color\":\"#2a3f5f\"}},\"annotationdefaults\":{\"arrowcolor\":\"#2a3f5f\",\"arrowhead\":0,\"arrowwidth\":1},\"geo\":{\"bgcolor\":\"white\",\"landcolor\":\"#E5ECF6\",\"subunitcolor\":\"white\",\"showland\":true,\"showlakes\":true,\"lakecolor\":\"white\"},\"title\":{\"x\":0.05},\"mapbox\":{\"style\":\"light\"}}},\"xaxis\":{\"anchor\":\"y\",\"domain\":[0.0,1.0],\"title\":{\"text\":\"rank\"}},\"yaxis\":{\"anchor\":\"x\",\"domain\":[0.0,1.0],\"title\":{\"text\":\"sum of subscribers\"},\"categoryorder\":\"total ascending\"},\"legend\":{\"tracegroupgap\":0},\"margin\":{\"t\":60},\"barmode\":\"group\"},                        {\"responsive\": true}                    ).then(function(){\n",
              "                            \n",
              "var gd = document.getElementById('fdf50eb2-5bb6-4474-a024-ec576435dd92');\n",
              "var x = new MutationObserver(function (mutations, observer) {{\n",
              "        var display = window.getComputedStyle(gd).display;\n",
              "        if (!display || display === 'none') {{\n",
              "            console.log([gd, 'removed!']);\n",
              "            Plotly.purge(gd);\n",
              "            observer.disconnect();\n",
              "        }}\n",
              "}});\n",
              "\n",
              "// Listen for the removal of the full notebook cells\n",
              "var notebookContainer = gd.closest('#notebook-container');\n",
              "if (notebookContainer) {{\n",
              "    x.observe(notebookContainer, {childList: true});\n",
              "}}\n",
              "\n",
              "// Listen for the clearing of the current output cell\n",
              "var outputEl = gd.closest('.output');\n",
              "if (outputEl) {{\n",
              "    x.observe(outputEl, {childList: true});\n",
              "}}\n",
              "\n",
              "                        })                };                            </script>        </div>\n",
              "</body>\n",
              "</html>"
            ]
          },
          "metadata": {}
        }
      ]
    },
    {
      "cell_type": "markdown",
      "source": [
        "Постройте boxplot любого признака из своего датасета.\n",
        "\n",
        "1) boxplot числовой переменной;\n",
        "\n",
        "2) boxplot числовой переменной относительно категориальный переменной;\n",
        "\n",
        "*p.s. Если у вас только один числовой признак, преобразуйте категориальный при помощи LabelEncoder (https://scikit-learn.org/stable/modules/generated/sklearn.preprocessing.LabelEncoder.html)*"
      ],
      "metadata": {
        "id": "zPsEO4m1ZWDy"
      }
    },
    {
      "cell_type": "code",
      "source": [
        "\n",
        "\n",
        "sns.boxplot( y = 'subscribers', data = df)\n",
        "\n"
      ],
      "metadata": {
        "id": "ccJLh1r-Zdne",
        "colab": {
          "base_uri": "https://localhost:8080/",
          "height": 443
        },
        "outputId": "6f27844c-3c75-4933-9af9-53cbe90d3dec"
      },
      "execution_count": 17,
      "outputs": [
        {
          "output_type": "execute_result",
          "data": {
            "text/plain": [
              "<Axes: ylabel='subscribers'>"
            ]
          },
          "metadata": {},
          "execution_count": 17
        },
        {
          "output_type": "display_data",
          "data": {
            "text/plain": [
              "<Figure size 640x480 with 1 Axes>"
            ],
            "image/png": "[encoded data removed]"
          },
          "metadata": {}
        }
      ]
    },
    {
      "cell_type": "code",
      "source": [
        "sns.boxplot( y = 'category', x = 'subscribers_for_last_30_days', data = df)\n"
      ],
      "metadata": {
        "id": "9ZRV3jjlq9NN",
        "colab": {
          "base_uri": "https://localhost:8080/",
          "height": 467
        },
        "outputId": "c10ac816-214f-4f85-ecaf-bd8f4ad1963c"
      },
      "execution_count": 30,
      "outputs": [
        {
          "output_type": "execute_result",
          "data": {
            "text/plain": [
              "<Axes: xlabel='subscribers_for_last_30_days', ylabel='category'>"
            ]
          },
          "metadata": {},
          "execution_count": 30
        },
        {
          "output_type": "display_data",
          "data": {
            "text/plain": [
              "<Figure size 640x480 with 1 Axes>"
            ],
            "image/png": "[encoded data removed]"
          },
          "metadata": {}
        }
      ]
    },
    {
      "cell_type": "markdown",
      "source": [
        "Постройте диаграмму рассеивания для числовых признаков вашего датасета.\n",
        "\n",
        "*p.s. Если у вас только один числовой признак, преобразуйте категориальный при помощи LabelEncoder (https://scikit-learn.org/stable/modules/generated/sklearn.preprocessing.LabelEncoder.html)*"
      ],
      "metadata": {
        "id": "mj8cdITDZh53"
      }
    },
    {
      "cell_type": "code",
      "source": [
        "fig = px.scatter(df, x = 'rank', y = 'subscribers')\n",
        "fig.show()"
      ],
      "metadata": {
        "id": "V2-ZoNUcZ_2l",
        "colab": {
          "base_uri": "https://localhost:8080/",
          "height": 542
        },
        "outputId": "689142e7-1ccc-4900-f617-3c71849c830d"
      },
      "execution_count": 19,
      "outputs": [
        {
          "output_type": "display_data",
          "data": {
            "text/html": [
              "<html>\n",
              "<head><meta charset=\"utf-8\" /></head>\n",
              "<body>\n",
              "    <div>            <script src=\"https://cdnjs.cloudflare.com/ajax/libs/mathjax/2.7.5/MathJax.js?config=TeX-AMS-MML_SVG\"></script><script type=\"text/javascript\">if (window.MathJax && window.MathJax.Hub && window.MathJax.Hub.Config) {window.MathJax.Hub.Config({SVG: {font: \"STIX-Web\"}});}</script>                <script type=\"text/javascript\">window.PlotlyConfig = {MathJaxConfig: 'local'};</script>\n",
              "        <script charset=\"utf-8\" src=\"https://cdn.plot.ly/plotly-2.24.1.min.js\"></script>                <div id=\"38620faa-b017-4759-a1a5-f914ac3733e3\" class=\"plotly-graph-div\" style=\"height:525px; width:100%;\"></div>            <script type=\"text/javascript\">                                    window.PLOTLYENV=window.PLOTLYENV || {};                                    if (document.getElementById(\"38620faa-b017-4759-a1a5-f914ac3733e3\")) {                    Plotly.newPlot(                        \"38620faa-b017-4759-a1a5-f914ac3733e3\",                        [{\"hovertemplate\":\"rank=%{x}\\u003cbr\\u003esubscribers=%{y}\\u003cextra\\u003e\\u003c\\u002fextra\\u003e\",\"legendgroup\":\"\",\"marker\":{\"color\":\"#636efa\",\"symbol\":\"circle\"},\"mode\":\"markers\",\"name\":\"\",\"orientation\":\"v\",\"showlegend\":false,\"x\":[1,2,3,4,5,6,7,8,9,10,11,12,13,14,15,16,17,18,19,20,21,22,23,24,25,26,27,28,29,30,31,32,33,34,35,36,37,38,39,40,41,42,43,44,45,46,47,48,49,50,51,52,53,54,55,56,57,58,59,60,61,62,63,64,65,66,67,68,69,70,71,72,73,74,75,76,77,78,79,80,81,82,83,84,85,86,87,88,89,90,91,92,93,94,95,96,97,98,99,100,101,102,103,104,105,106,107,108,109,110,111,112,113,114,115,116,117,118,119,120,121,122,123,124,125,126,127,128,129,130,131,132,133,134,135,136,137,138,139,140,141,142,143,144,145,146,147,148,149,150,151,152,153,154,155,156,157,158,159,160,161,162,163,164,165,166,167,168,169,170,171,172,173,174,175,176,177,178,179,180,181,182,183,184,185,186,187,188,189,190,191,192,193,194,195,196,197,198,199,200,201,202,203,204,205,206,207,208,209,210,211,212,213,214,215,216,217,218,219,220,221,222,223,224,225,226,227,228,229,230,231,232,233,234,235,236,237,238,239,240,241,242,243,244,245,246,247,248,249,250,251,252,253,254,255,256,257,258,259,260,261,262,263,264,265,266,267,268,269,270,271,272,273,274,275,276,277,278,279,280,281,282,283,284,285,286,287,288,289,290,291,292,293,294,295,296,297,298,299,300,301,302,303,304,305,306,307,308,309,310,311,312,313,314,315,316,317,318,319,320,321,322,323,324,325,326,327,328,329,330,331,332,333,334,335,336,337,338,339,340,341,342,343,344,345,346,347,348,349,350,351,352,353,354,355,356,357,358,359,360,361,362,363,364,365,366,367,368,369,370,371,372,373,374,375,376,377,378,379,380,381,382,383,384,385,386,387,388,389,390,391,392,393,394,395,396,397,398,399,400,401,402,403,404,405,406,407,408,409,410,411,412,413,414,415,416,417,418,419,420,421,422,423,424,425,426,427,428,429,430,431,432,433,434,435,436,437,438,439,440,441,442,443,444,445,446,447,448,449,450,451,452,453,454,455,456,457,458,459,460,461,462,463,464,465,466,467,468,469,470,471,472,473,474,475,476,477,478,479,480,481,482,483,484,485,486,487,488,489,490,491,492,493,494,495,496,497,498,499,500,501,502,503,504,505,506,507,508,509,510,511,512,513,514,515,516,517,518,519,520,521,522,523,524,525,526,527,528,529,530,531,532,533,534,535,536,537,538,539,540,541,542,543,544,545,546,547,548,549,550,551,552,553,554,555,556,557,558,559,560,561,562,563,564,565,566,567,568,569,570,571,572,573,574,575,576,577,578,579,580,581,582,583,584,585,586,587,588,589,590,591,592,593,594,595,596,597,598,599,600,601,602,603,604,605,606,607,608,609,610,611,612,613,614,615,616,617,618,619,620,621,622,623,624,625,626,627,628,629,630,631,632,633,634,635,636,637,638,639,640,641,642,643,644,645,646,647,648,649,650,651,652,653,654,655,656,657,658,659,660,661,662,663,664,665,666,667,668,669,670,671,672,673,674,675,676,677,678,679,680,681,682,683,684,685,686,687,688,689,690,691,692,693,694,695,696,697,698,699,700,701,702,703,704,705,706,707,708,709,710,711,712,713,714,715,716,717,718,719,720,721,722,723,724,725,726,727,728,729,730,731,732,733,734,735,736,737,738,739,740,741,742,743,744,745,746,747,748,749,750,751,752,753,754,755,756,757,758,759,760,761,762,763,764,765,766,767,768,769,770,771,772,773,774,775,776,777,778,779,780,781,782,783,784,785,786,787,788,789,790,791,792,793,794,795,796,797,798,799,800,801,802,803,804,805,806,807,808,809,810,811,812,813,814,815,816,817,818,819,820,821,822,823,824,825,826,827,828,829,830,831,832,833,834,835,836,837,838,839,840,841,842,843,844,845,846,847,848,849,850,851,852,853,854,855,856,857,858,859,860,861,862,863,864,865,866,867,868,869,870,871,872,873,874,875,876,877,878,879,880,881,882,883,884,885,886,887,888,889,890,891,892,893,894,895,896,897,898,899,900,901,902,903,904,905,906,907,908,909,910,911,912,913,914,915,916,917,918,919,920,921,922,923,924,925,926,927,928,929,930,931,932,933,934,935,936,937,938,939,940,941,942,943,944,945,946,947,948,949,950,951,952,953,954,955,956,957,958,959,960,961,962,963,964,965,966,967,968,969,970,971,972,973,974,975,976,977,978,979,980,981,982,983,984,985,986,987,988,989,990,991,992,993,994,995],\"xaxis\":\"x\",\"y\":[245000000,170000000,166000000,162000000,159000000,119000000,112000000,111000000,106000000,98900000,96700000,96000000,93600000,89800000,86900000,83000000,80100000,75600000,75000000,71600000,71300000,70500000,68200000,66500000,65900000,65600000,64600000,61000000,59500000,59500000,59300000,58400000,58000000,57600000,57200000,56900000,56400000,54600000,54000000,53500000,53300000,52900000,52700000,52200000,48100000,47900000,47500000,47400000,46800000,46600000,46300000,46100000,46100000,45500000,45200000,44700000,44600000,44500000,44200000,44200000,44200000,43700000,43600000,43500000,43200000,43200000,42500000,42400000,42400000,41900000,41400000,41300000,40900000,40600000,40400000,40300000,39700000,39400000,39200000,39200000,39200000,39100000,39000000,38900000,38600000,38400000,38300000,38200000,38200000,38200000,38000000,37900000,37600000,37500000,37200000,37000000,37000000,36700000,36600000,36600000,36500000,36300000,36300000,36200000,36100000,35700000,35500000,35500000,35400000,35400000,35200000,35200000,34900000,34600000,34400000,34300000,34100000,34000000,34000000,33800000,33800000,33700000,33700000,33600000,33500000,33500000,33500000,33400000,33400000,33300000,32800000,32700000,32700000,32700000,32600000,32200000,32100000,32100000,32100000,32000000,31900000,31900000,31800000,31700000,31700000,31700000,31700000,31600000,31600000,31400000,31400000,31200000,31200000,31200000,30700000,30700000,30700000,30500000,30500000,30400000,30400000,30400000,30300000,30200000,30200000,30200000,30100000,30100000,30100000,30100000,30000000,29800000,29600000,29300000,29300000,29200000,29200000,29200000,29000000,28900000,28500000,28400000,28400000,28300000,28300000,28300000,28200000,28200000,28100000,28000000,27800000,27800000,27700000,27500000,27500000,27400000,27400000,27400000,27300000,27300000,27100000,27100000,27100000,27000000,26900000,26700000,26700000,26700000,26500000,26500000,26400000,26400000,26400000,26300000,26200000,26200000,26100000,26100000,26000000,26000000,26000000,25900000,25800000,25700000,25700000,25700000,25600000,25600000,25500000,25500000,25400000,25400000,25300000,25200000,25200000,25200000,25200000,25200000,25100000,25100000,25000000,25000000,24800000,24800000,24800000,24800000,24700000,24700000,24600000,24600000,24500000,24400000,24300000,24300000,24200000,24200000,24100000,24100000,24100000,24100000,24100000,24100000,24100000,24000000,24000000,24000000,23900000,23900000,23900000,23800000,23800000,23800000,23700000,23700000,23700000,23700000,23600000,23600000,23600000,23600000,23600000,23500000,23500000,23400000,23400000,23300000,23200000,23200000,23200000,23100000,23100000,23100000,23100000,23100000,23000000,23000000,23000000,23000000,22900000,22900000,22900000,22900000,22800000,22700000,22700000,22600000,22600000,22600000,22600000,22600000,22600000,22500000,22500000,22500000,22400000,22300000,22300000,22200000,22000000,22000000,22000000,21900000,21900000,21900000,21900000,21800000,21800000,21800000,21800000,21800000,21800000,21700000,21700000,21600000,21600000,21600000,21500000,21500000,21500000,21500000,21400000,21400000,21300000,21300000,21300000,21300000,21300000,21300000,21200000,21200000,21100000,21100000,21000000,21000000,21000000,21000000,20900000,20900000,20900000,20900000,20900000,20900000,20800000,20800000,20700000,20700000,20700000,20700000,20700000,20600000,20600000,20600000,20500000,20500000,20500000,20400000,20400000,20400000,20400000,20400000,20400000,20300000,20300000,20300000,20200000,20200000,20200000,20200000,20200000,20200000,20200000,20100000,20100000,20100000,20100000,20100000,20100000,20100000,20100000,20100000,20000000,20000000,20000000,20000000,20000000,19900000,19800000,19800000,19800000,19700000,19700000,19700000,19700000,19700000,19600000,19600000,19600000,19600000,19600000,19500000,19400000,19400000,19400000,19400000,19300000,19300000,19300000,19200000,19200000,19100000,19100000,19100000,19100000,19000000,19000000,19000000,19000000,19000000,19000000,18900000,18900000,18900000,18800000,18800000,18800000,18800000,18800000,18800000,18800000,18700000,18700000,18600000,18600000,18600000,18600000,18500000,18500000,18500000,18500000,18500000,18400000,18400000,18400000,18400000,18400000,18300000,18300000,18300000,18300000,18200000,18200000,18100000,18100000,18100000,18100000,18100000,18100000,18000000,18000000,18000000,18000000,18000000,18000000,18000000,17900000,17900000,17900000,17900000,17900000,17900000,17900000,17900000,17900000,17800000,17800000,17700000,17700000,17700000,17700000,17700000,17700000,17700000,17700000,17700000,17700000,17600000,17600000,17600000,17600000,17600000,17600000,17500000,17500000,17500000,17500000,17400000,17400000,17400000,17400000,17300000,17300000,17300000,17300000,17200000,17200000,17200000,17200000,17200000,17200000,17100000,17100000,17100000,17000000,17000000,17000000,17000000,16900000,16900000,16900000,16900000,16900000,16900000,16900000,16800000,16800000,16800000,16800000,16800000,16700000,16700000,16700000,16700000,16700000,16600000,16600000,16600000,16600000,16600000,16600000,16600000,16600000,16500000,16500000,16500000,16500000,16400000,16400000,16400000,16400000,16400000,16400000,16400000,16300000,16300000,16300000,16300000,16300000,16300000,16300000,16300000,16300000,16200000,16200000,16200000,16200000,16200000,16200000,16200000,16200000,16200000,16200000,16100000,16100000,16100000,16100000,16100000,16100000,16100000,16100000,16100000,16100000,16000000,16000000,16000000,16000000,16000000,15900000,15900000,15900000,15900000,15900000,15900000,15900000,15800000,15800000,15800000,15800000,15700000,15700000,15700000,15700000,15700000,15700000,15600000,15600000,15600000,15600000,15600000,15500000,15500000,15500000,15500000,15500000,15500000,15500000,15500000,15500000,15500000,15400000,15400000,15400000,15400000,15400000,15400000,15400000,15400000,15300000,15300000,15300000,15300000,15300000,15200000,15200000,15200000,15200000,15200000,15200000,15200000,15200000,15200000,15100000,15100000,15100000,15100000,15100000,15100000,15100000,15100000,15100000,15100000,15100000,15100000,15100000,15100000,15100000,15100000,15000000,15000000,15000000,15000000,15000000,15000000,15000000,15000000,15000000,15000000,15000000,15000000,15000000,15000000,15000000,15000000,15000000,14900000,14900000,14900000,14900000,14900000,14900000,14900000,14900000,14900000,14900000,14800000,14800000,14800000,14800000,14800000,14800000,14800000,14800000,14800000,14800000,14800000,14700000,14700000,14700000,14700000,14700000,14700000,14700000,14700000,14700000,14700000,14700000,14600000,14600000,14600000,14600000,14600000,14600000,14600000,14600000,14600000,14600000,14500000,14500000,14500000,14500000,14500000,14500000,14500000,14500000,14500000,14500000,14500000,14500000,14500000,14500000,14500000,14500000,14500000,14400000,14400000,14400000,14400000,14400000,14400000,14400000,14400000,14400000,14400000,14400000,14400000,14400000,14400000,14400000,14400000,14300000,14300000,14200000,14200000,14200000,14200000,14200000,14200000,14200000,14200000,14200000,14200000,14200000,14200000,14100000,14100000,14100000,14100000,14100000,14100000,14100000,14100000,14100000,14100000,14000000,14000000,14000000,14000000,14000000,14000000,14000000,14000000,14000000,14000000,13900000,13900000,13900000,13900000,13900000,13900000,13900000,13900000,13900000,13900000,13900000,13800000,13800000,13800000,13800000,13800000,13800000,13800000,13800000,13700000,13700000,13700000,13700000,13700000,13700000,13700000,13700000,13700000,13700000,13600000,13600000,13600000,13600000,13600000,13600000,13600000,13500000,13500000,13500000,13500000,13500000,13500000,13500000,13500000,13500000,13500000,13500000,13400000,13400000,13400000,13400000,13400000,13400000,13400000,13400000,13400000,13400000,13400000,13300000,13300000,13300000,13300000,13300000,13300000,13300000,13300000,13300000,13300000,13300000,13300000,13300000,13300000,13200000,13200000,13200000,13200000,13200000,13200000,13200000,13200000,13200000,13200000,13200000,13200000,13100000,13100000,13100000,13100000,13100000,13100000,13100000,13100000,13100000,13100000,13100000,13100000,13100000,13100000,13000000,13000000,13000000,13000000,13000000,13000000,13000000,13000000,13000000,13000000,13000000,12900000,12900000,12900000,12900000,12900000,12900000,12900000,12900000,12900000,12900000,12900000,12800000,12800000,12800000,12800000,12800000,12800000,12800000,12800000,12700000,12700000,12700000,12700000,12700000,12700000,12700000,12700000,12700000,12700000,12700000,12700000,12700000,12600000,12600000,12600000,12600000,12600000,12500000,12500000,12500000,12500000,12500000,12500000,12500000,12500000,12500000,12500000,12500000,12500000,12500000,12500000,12500000,12500000,12500000,12500000,12500000,12500000,12500000,12500000,12400000,12400000,12400000,12400000,12400000,12400000,12400000,12400000,12400000,12400000,12400000,12400000,12400000,12400000,12400000,12400000,12400000,12400000,12400000,12400000,12300000,12300000,12300000,12300000,12300000],\"yaxis\":\"y\",\"type\":\"scatter\"}],                        {\"template\":{\"data\":{\"histogram2dcontour\":[{\"type\":\"histogram2dcontour\",\"colorbar\":{\"outlinewidth\":0,\"ticks\":\"\"},\"colorscale\":[[0.0,\"#0d0887\"],[0.1111111111111111,\"#46039f\"],[0.2222222222222222,\"#7201a8\"],[0.3333333333333333,\"#9c179e\"],[0.4444444444444444,\"#bd3786\"],[0.5555555555555556,\"#d8576b\"],[0.6666666666666666,\"#ed7953\"],[0.7777777777777778,\"#fb9f3a\"],[0.8888888888888888,\"#fdca26\"],[1.0,\"#f0f921\"]]}],\"choropleth\":[{\"type\":\"choropleth\",\"colorbar\":{\"outlinewidth\":0,\"ticks\":\"\"}}],\"histogram2d\":[{\"type\":\"histogram2d\",\"colorbar\":{\"outlinewidth\":0,\"ticks\":\"\"},\"colorscale\":[[0.0,\"#0d0887\"],[0.1111111111111111,\"#46039f\"],[0.2222222222222222,\"#7201a8\"],[0.3333333333333333,\"#9c179e\"],[0.4444444444444444,\"#bd3786\"],[0.5555555555555556,\"#d8576b\"],[0.6666666666666666,\"#ed7953\"],[0.7777777777777778,\"#fb9f3a\"],[0.8888888888888888,\"#fdca26\"],[1.0,\"#f0f921\"]]}],\"heatmap\":[{\"type\":\"heatmap\",\"colorbar\":{\"outlinewidth\":0,\"ticks\":\"\"},\"colorscale\":[[0.0,\"#0d0887\"],[0.1111111111111111,\"#46039f\"],[0.2222222222222222,\"#7201a8\"],[0.3333333333333333,\"#9c179e\"],[0.4444444444444444,\"#bd3786\"],[0.5555555555555556,\"#d8576b\"],[0.6666666666666666,\"#ed7953\"],[0.7777777777777778,\"#fb9f3a\"],[0.8888888888888888,\"#fdca26\"],[1.0,\"#f0f921\"]]}],\"heatmapgl\":[{\"type\":\"heatmapgl\",\"colorbar\":{\"outlinewidth\":0,\"ticks\":\"\"},\"colorscale\":[[0.0,\"#0d0887\"],[0.1111111111111111,\"#46039f\"],[0.2222222222222222,\"#7201a8\"],[0.3333333333333333,\"#9c179e\"],[0.4444444444444444,\"#bd3786\"],[0.5555555555555556,\"#d8576b\"],[0.6666666666666666,\"#ed7953\"],[0.7777777777777778,\"#fb9f3a\"],[0.8888888888888888,\"#fdca26\"],[1.0,\"#f0f921\"]]}],\"contourcarpet\":[{\"type\":\"contourcarpet\",\"colorbar\":{\"outlinewidth\":0,\"ticks\":\"\"}}],\"contour\":[{\"type\":\"contour\",\"colorbar\":{\"outlinewidth\":0,\"ticks\":\"\"},\"colorscale\":[[0.0,\"#0d0887\"],[0.1111111111111111,\"#46039f\"],[0.2222222222222222,\"#7201a8\"],[0.3333333333333333,\"#9c179e\"],[0.4444444444444444,\"#bd3786\"],[0.5555555555555556,\"#d8576b\"],[0.6666666666666666,\"#ed7953\"],[0.7777777777777778,\"#fb9f3a\"],[0.8888888888888888,\"#fdca26\"],[1.0,\"#f0f921\"]]}],\"surface\":[{\"type\":\"surface\",\"colorbar\":{\"outlinewidth\":0,\"ticks\":\"\"},\"colorscale\":[[0.0,\"#0d0887\"],[0.1111111111111111,\"#46039f\"],[0.2222222222222222,\"#7201a8\"],[0.3333333333333333,\"#9c179e\"],[0.4444444444444444,\"#bd3786\"],[0.5555555555555556,\"#d8576b\"],[0.6666666666666666,\"#ed7953\"],[0.7777777777777778,\"#fb9f3a\"],[0.8888888888888888,\"#fdca26\"],[1.0,\"#f0f921\"]]}],\"mesh3d\":[{\"type\":\"mesh3d\",\"colorbar\":{\"outlinewidth\":0,\"ticks\":\"\"}}],\"scatter\":[{\"fillpattern\":{\"fillmode\":\"overlay\",\"size\":10,\"solidity\":0.2},\"type\":\"scatter\"}],\"parcoords\":[{\"type\":\"parcoords\",\"line\":{\"colorbar\":{\"outlinewidth\":0,\"ticks\":\"\"}}}],\"scatterpolargl\":[{\"type\":\"scatterpolargl\",\"marker\":{\"colorbar\":{\"outlinewidth\":0,\"ticks\":\"\"}}}],\"bar\":[{\"error_x\":{\"color\":\"#2a3f5f\"},\"error_y\":{\"color\":\"#2a3f5f\"},\"marker\":{\"line\":{\"color\":\"#E5ECF6\",\"width\":0.5},\"pattern\":{\"fillmode\":\"overlay\",\"size\":10,\"solidity\":0.2}},\"type\":\"bar\"}],\"scattergeo\":[{\"type\":\"scattergeo\",\"marker\":{\"colorbar\":{\"outlinewidth\":0,\"ticks\":\"\"}}}],\"scatterpolar\":[{\"type\":\"scatterpolar\",\"marker\":{\"colorbar\":{\"outlinewidth\":0,\"ticks\":\"\"}}}],\"histogram\":[{\"marker\":{\"pattern\":{\"fillmode\":\"overlay\",\"size\":10,\"solidity\":0.2}},\"type\":\"histogram\"}],\"scattergl\":[{\"type\":\"scattergl\",\"marker\":{\"colorbar\":{\"outlinewidth\":0,\"ticks\":\"\"}}}],\"scatter3d\":[{\"type\":\"scatter3d\",\"line\":{\"colorbar\":{\"outlinewidth\":0,\"ticks\":\"\"}},\"marker\":{\"colorbar\":{\"outlinewidth\":0,\"ticks\":\"\"}}}],\"scattermapbox\":[{\"type\":\"scattermapbox\",\"marker\":{\"colorbar\":{\"outlinewidth\":0,\"ticks\":\"\"}}}],\"scatterternary\":[{\"type\":\"scatterternary\",\"marker\":{\"colorbar\":{\"outlinewidth\":0,\"ticks\":\"\"}}}],\"scattercarpet\":[{\"type\":\"scattercarpet\",\"marker\":{\"colorbar\":{\"outlinewidth\":0,\"ticks\":\"\"}}}],\"carpet\":[{\"aaxis\":{\"endlinecolor\":\"#2a3f5f\",\"gridcolor\":\"white\",\"linecolor\":\"white\",\"minorgridcolor\":\"white\",\"startlinecolor\":\"#2a3f5f\"},\"baxis\":{\"endlinecolor\":\"#2a3f5f\",\"gridcolor\":\"white\",\"linecolor\":\"white\",\"minorgridcolor\":\"white\",\"startlinecolor\":\"#2a3f5f\"},\"type\":\"carpet\"}],\"table\":[{\"cells\":{\"fill\":{\"color\":\"#EBF0F8\"},\"line\":{\"color\":\"white\"}},\"header\":{\"fill\":{\"color\":\"#C8D4E3\"},\"line\":{\"color\":\"white\"}},\"type\":\"table\"}],\"barpolar\":[{\"marker\":{\"line\":{\"color\":\"#E5ECF6\",\"width\":0.5},\"pattern\":{\"fillmode\":\"overlay\",\"size\":10,\"solidity\":0.2}},\"type\":\"barpolar\"}],\"pie\":[{\"automargin\":true,\"type\":\"pie\"}]},\"layout\":{\"autotypenumbers\":\"strict\",\"colorway\":[\"#636efa\",\"#EF553B\",\"#00cc96\",\"#ab63fa\",\"#FFA15A\",\"#19d3f3\",\"#FF6692\",\"#B6E880\",\"#FF97FF\",\"#FECB52\"],\"font\":{\"color\":\"#2a3f5f\"},\"hovermode\":\"closest\",\"hoverlabel\":{\"align\":\"left\"},\"paper_bgcolor\":\"white\",\"plot_bgcolor\":\"#E5ECF6\",\"polar\":{\"bgcolor\":\"#E5ECF6\",\"angularaxis\":{\"gridcolor\":\"white\",\"linecolor\":\"white\",\"ticks\":\"\"},\"radialaxis\":{\"gridcolor\":\"white\",\"linecolor\":\"white\",\"ticks\":\"\"}},\"ternary\":{\"bgcolor\":\"#E5ECF6\",\"aaxis\":{\"gridcolor\":\"white\",\"linecolor\":\"white\",\"ticks\":\"\"},\"baxis\":{\"gridcolor\":\"white\",\"linecolor\":\"white\",\"ticks\":\"\"},\"caxis\":{\"gridcolor\":\"white\",\"linecolor\":\"white\",\"ticks\":\"\"}},\"coloraxis\":{\"colorbar\":{\"outlinewidth\":0,\"ticks\":\"\"}},\"colorscale\":{\"sequential\":[[0.0,\"#0d0887\"],[0.1111111111111111,\"#46039f\"],[0.2222222222222222,\"#7201a8\"],[0.3333333333333333,\"#9c179e\"],[0.4444444444444444,\"#bd3786\"],[0.5555555555555556,\"#d8576b\"],[0.6666666666666666,\"#ed7953\"],[0.7777777777777778,\"#fb9f3a\"],[0.8888888888888888,\"#fdca26\"],[1.0,\"#f0f921\"]],\"sequentialminus\":[[0.0,\"#0d0887\"],[0.1111111111111111,\"#46039f\"],[0.2222222222222222,\"#7201a8\"],[0.3333333333333333,\"#9c179e\"],[0.4444444444444444,\"#bd3786\"],[0.5555555555555556,\"#d8576b\"],[0.6666666666666666,\"#ed7953\"],[0.7777777777777778,\"#fb9f3a\"],[0.8888888888888888,\"#fdca26\"],[1.0,\"#f0f921\"]],\"diverging\":[[0,\"#8e0152\"],[0.1,\"#c51b7d\"],[0.2,\"#de77ae\"],[0.3,\"#f1b6da\"],[0.4,\"#fde0ef\"],[0.5,\"#f7f7f7\"],[0.6,\"#e6f5d0\"],[0.7,\"#b8e186\"],[0.8,\"#7fbc41\"],[0.9,\"#4d9221\"],[1,\"#276419\"]]},\"xaxis\":{\"gridcolor\":\"white\",\"linecolor\":\"white\",\"ticks\":\"\",\"title\":{\"standoff\":15},\"zerolinecolor\":\"white\",\"automargin\":true,\"zerolinewidth\":2},\"yaxis\":{\"gridcolor\":\"white\",\"linecolor\":\"white\",\"ticks\":\"\",\"title\":{\"standoff\":15},\"zerolinecolor\":\"white\",\"automargin\":true,\"zerolinewidth\":2},\"scene\":{\"xaxis\":{\"backgroundcolor\":\"#E5ECF6\",\"gridcolor\":\"white\",\"linecolor\":\"white\",\"showbackground\":true,\"ticks\":\"\",\"zerolinecolor\":\"white\",\"gridwidth\":2},\"yaxis\":{\"backgroundcolor\":\"#E5ECF6\",\"gridcolor\":\"white\",\"linecolor\":\"white\",\"showbackground\":true,\"ticks\":\"\",\"zerolinecolor\":\"white\",\"gridwidth\":2},\"zaxis\":{\"backgroundcolor\":\"#E5ECF6\",\"gridcolor\":\"white\",\"linecolor\":\"white\",\"showbackground\":true,\"ticks\":\"\",\"zerolinecolor\":\"white\",\"gridwidth\":2}},\"shapedefaults\":{\"line\":{\"color\":\"#2a3f5f\"}},\"annotationdefaults\":{\"arrowcolor\":\"#2a3f5f\",\"arrowhead\":0,\"arrowwidth\":1},\"geo\":{\"bgcolor\":\"white\",\"landcolor\":\"#E5ECF6\",\"subunitcolor\":\"white\",\"showland\":true,\"showlakes\":true,\"lakecolor\":\"white\"},\"title\":{\"x\":0.05},\"mapbox\":{\"style\":\"light\"}}},\"xaxis\":{\"anchor\":\"y\",\"domain\":[0.0,1.0],\"title\":{\"text\":\"rank\"}},\"yaxis\":{\"anchor\":\"x\",\"domain\":[0.0,1.0],\"title\":{\"text\":\"subscribers\"}},\"legend\":{\"tracegroupgap\":0},\"margin\":{\"t\":60}},                        {\"responsive\": true}                    ).then(function(){\n",
              "                            \n",
              "var gd = document.getElementById('38620faa-b017-4759-a1a5-f914ac3733e3');\n",
              "var x = new MutationObserver(function (mutations, observer) {{\n",
              "        var display = window.getComputedStyle(gd).display;\n",
              "        if (!display || display === 'none') {{\n",
              "            console.log([gd, 'removed!']);\n",
              "            Plotly.purge(gd);\n",
              "            observer.disconnect();\n",
              "        }}\n",
              "}});\n",
              "\n",
              "// Listen for the removal of the full notebook cells\n",
              "var notebookContainer = gd.closest('#notebook-container');\n",
              "if (notebookContainer) {{\n",
              "    x.observe(notebookContainer, {childList: true});\n",
              "}}\n",
              "\n",
              "// Listen for the clearing of the current output cell\n",
              "var outputEl = gd.closest('.output');\n",
              "if (outputEl) {{\n",
              "    x.observe(outputEl, {childList: true});\n",
              "}}\n",
              "\n",
              "                        })                };                            </script>        </div>\n",
              "</body>\n",
              "</html>"
            ]
          },
          "metadata": {}
        }
      ]
    },
    {
      "cell_type": "markdown",
      "source": [
        "Постройте матрицу корреляции для двух числовых признаков вашего датасета."
      ],
      "metadata": {
        "id": "S-jG4a5SaFXS"
      }
    },
    {
      "cell_type": "code",
      "source": [
        "fig = px.scatter(df, x = 'rank', y = [-item for item in df['rank']])\n",
        "fig.show()"
      ],
      "metadata": {
        "id": "u_lOnPtjnfbq",
        "colab": {
          "base_uri": "https://localhost:8080/",
          "height": 542
        },
        "outputId": "4ce6b4d5-72ed-4da7-ad9c-4807215ea595"
      },
      "execution_count": 33,
      "outputs": [
        {
          "output_type": "display_data",
          "data": {
            "text/html": [
              "<html>\n",
              "<head><meta charset=\"utf-8\" /></head>\n",
              "<body>\n",
              "    <div>            <script src=\"https://cdnjs.cloudflare.com/ajax/libs/mathjax/2.7.5/MathJax.js?config=TeX-AMS-MML_SVG\"></script><script type=\"text/javascript\">if (window.MathJax && window.MathJax.Hub && window.MathJax.Hub.Config) {window.MathJax.Hub.Config({SVG: {font: \"STIX-Web\"}});}</script>                <script type=\"text/javascript\">window.PlotlyConfig = {MathJaxConfig: 'local'};</script>\n",
              "        <script charset=\"utf-8\" src=\"https://cdn.plot.ly/plotly-2.24.1.min.js\"></script>                <div id=\"3c07c268-1587-421f-adab-4cdf4f51667e\" class=\"plotly-graph-div\" style=\"height:525px; width:100%;\"></div>            <script type=\"text/javascript\">                                    window.PLOTLYENV=window.PLOTLYENV || {};                                    if (document.getElementById(\"3c07c268-1587-421f-adab-4cdf4f51667e\")) {                    Plotly.newPlot(                        \"3c07c268-1587-421f-adab-4cdf4f51667e\",                        [{\"hovertemplate\":\"rank=%{x}\\u003cbr\\u003ey=%{y}\\u003cextra\\u003e\\u003c\\u002fextra\\u003e\",\"legendgroup\":\"\",\"marker\":{\"color\":\"#636efa\",\"symbol\":\"circle\"},\"mode\":\"markers\",\"name\":\"\",\"orientation\":\"v\",\"showlegend\":false,\"x\":[1,2,3,4,5,6,7,8,9,10,11,12,13,14,15,16,17,18,19,20,21,22,23,24,25,26,27,28,29,30,31,32,33,34,35,36,37,38,39,40,41,42,43,44,45,46,47,48,49,50,51,52,53,54,55,56,57,58,59,60,61,62,63,64,65,66,67,68,69,70,71,72,73,74,75,76,77,78,79,80,81,82,83,84,85,86,87,88,89,90,91,92,93,94,95,96,97,98,99,100,101,102,103,104,105,106,107,108,109,110,111,112,113,114,115,116,117,118,119,120,121,122,123,124,125,126,127,128,129,130,131,132,133,134,135,136,137,138,139,140,141,142,143,144,145,146,147,148,149,150,151,152,153,154,155,156,157,158,159,160,161,162,163,164,165,166,167,168,169,170,171,172,173,174,175,176,177,178,179,180,181,182,183,184,185,186,187,188,189,190,191,192,193,194,195,196,197,198,199,200,201,202,203,204,205,206,207,208,209,210,211,212,213,214,215,216,217,218,219,220,221,222,223,224,225,226,227,228,229,230,231,232,233,234,235,236,237,238,239,240,241,242,243,244,245,246,247,248,249,250,251,252,253,254,255,256,257,258,259,260,261,262,263,264,265,266,267,268,269,270,271,272,273,274,275,276,277,278,279,280,281,282,283,284,285,286,287,288,289,290,291,292,293,294,295,296,297,298,299,300,301,302,303,304,305,306,307,308,309,310,311,312,313,314,315,316,317,318,319,320,321,322,323,324,325,326,327,328,329,330,331,332,333,334,335,336,337,338,339,340,341,342,343,344,345,346,347,348,349,350,351,352,353,354,355,356,357,358,359,360,361,362,363,364,365,366,367,368,369,370,371,372,373,374,375,376,377,378,379,380,381,382,383,384,385,386,387,388,389,390,391,392,393,394,395,396,397,398,399,400,401,402,403,404,405,406,407,408,409,410,411,412,413,414,415,416,417,418,419,420,421,422,423,424,425,426,427,428,429,430,431,432,433,434,435,436,437,438,439,440,441,442,443,444,445,446,447,448,449,450,451,452,453,454,455,456,457,458,459,460,461,462,463,464,465,466,467,468,469,470,471,472,473,474,475,476,477,478,479,480,481,482,483,484,485,486,487,488,489,490,491,492,493,494,495,496,497,498,499,500,501,502,503,504,505,506,507,508,509,510,511,512,513,514,515,516,517,518,519,520,521,522,523,524,525,526,527,528,529,530,531,532,533,534,535,536,537,538,539,540,541,542,543,544,545,546,547,548,549,550,551,552,553,554,555,556,557,558,559,560,561,562,563,564,565,566,567,568,569,570,571,572,573,574,575,576,577,578,579,580,581,582,583,584,585,586,587,588,589,590,591,592,593,594,595,596,597,598,599,600,601,602,603,604,605,606,607,608,609,610,611,612,613,614,615,616,617,618,619,620,621,622,623,624,625,626,627,628,629,630,631,632,633,634,635,636,637,638,639,640,641,642,643,644,645,646,647,648,649,650,651,652,653,654,655,656,657,658,659,660,661,662,663,664,665,666,667,668,669,670,671,672,673,674,675,676,677,678,679,680,681,682,683,684,685,686,687,688,689,690,691,692,693,694,695,696,697,698,699,700,701,702,703,704,705,706,707,708,709,710,711,712,713,714,715,716,717,718,719,720,721,722,723,724,725,726,727,728,729,730,731,732,733,734,735,736,737,738,739,740,741,742,743,744,745,746,747,748,749,750,751,752,753,754,755,756,757,758,759,760,761,762,763,764,765,766,767,768,769,770,771,772,773,774,775,776,777,778,779,780,781,782,783,784,785,786,787,788,789,790,791,792,793,794,795,796,797,798,799,800,801,802,803,804,805,806,807,808,809,810,811,812,813,814,815,816,817,818,819,820,821,822,823,824,825,826,827,828,829,830,831,832,833,834,835,836,837,838,839,840,841,842,843,844,845,846,847,848,849,850,851,852,853,854,855,856,857,858,859,860,861,862,863,864,865,866,867,868,869,870,871,872,873,874,875,876,877,878,879,880,881,882,883,884,885,886,887,888,889,890,891,892,893,894,895,896,897,898,899,900,901,902,903,904,905,906,907,908,909,910,911,912,913,914,915,916,917,918,919,920,921,922,923,924,925,926,927,928,929,930,931,932,933,934,935,936,937,938,939,940,941,942,943,944,945,946,947,948,949,950,951,952,953,954,955,956,957,958,959,960,961,962,963,964,965,966,967,968,969,970,971,972,973,974,975,976,977,978,979,980,981,982,983,984,985,986,987,988,989,990,991,992,993,994,995],\"xaxis\":\"x\",\"y\":[-1,-2,-3,-4,-5,-6,-7,-8,-9,-10,-11,-12,-13,-14,-15,-16,-17,-18,-19,-20,-21,-22,-23,-24,-25,-26,-27,-28,-29,-30,-31,-32,-33,-34,-35,-36,-37,-38,-39,-40,-41,-42,-43,-44,-45,-46,-47,-48,-49,-50,-51,-52,-53,-54,-55,-56,-57,-58,-59,-60,-61,-62,-63,-64,-65,-66,-67,-68,-69,-70,-71,-72,-73,-74,-75,-76,-77,-78,-79,-80,-81,-82,-83,-84,-85,-86,-87,-88,-89,-90,-91,-92,-93,-94,-95,-96,-97,-98,-99,-100,-101,-102,-103,-104,-105,-106,-107,-108,-109,-110,-111,-112,-113,-114,-115,-116,-117,-118,-119,-120,-121,-122,-123,-124,-125,-126,-127,-128,-129,-130,-131,-132,-133,-134,-135,-136,-137,-138,-139,-140,-141,-142,-143,-144,-145,-146,-147,-148,-149,-150,-151,-152,-153,-154,-155,-156,-157,-158,-159,-160,-161,-162,-163,-164,-165,-166,-167,-168,-169,-170,-171,-172,-173,-174,-175,-176,-177,-178,-179,-180,-181,-182,-183,-184,-185,-186,-187,-188,-189,-190,-191,-192,-193,-194,-195,-196,-197,-198,-199,-200,-201,-202,-203,-204,-205,-206,-207,-208,-209,-210,-211,-212,-213,-214,-215,-216,-217,-218,-219,-220,-221,-222,-223,-224,-225,-226,-227,-228,-229,-230,-231,-232,-233,-234,-235,-236,-237,-238,-239,-240,-241,-242,-243,-244,-245,-246,-247,-248,-249,-250,-251,-252,-253,-254,-255,-256,-257,-258,-259,-260,-261,-262,-263,-264,-265,-266,-267,-268,-269,-270,-271,-272,-273,-274,-275,-276,-277,-278,-279,-280,-281,-282,-283,-284,-285,-286,-287,-288,-289,-290,-291,-292,-293,-294,-295,-296,-297,-298,-299,-300,-301,-302,-303,-304,-305,-306,-307,-308,-309,-310,-311,-312,-313,-314,-315,-316,-317,-318,-319,-320,-321,-322,-323,-324,-325,-326,-327,-328,-329,-330,-331,-332,-333,-334,-335,-336,-337,-338,-339,-340,-341,-342,-343,-344,-345,-346,-347,-348,-349,-350,-351,-352,-353,-354,-355,-356,-357,-358,-359,-360,-361,-362,-363,-364,-365,-366,-367,-368,-369,-370,-371,-372,-373,-374,-375,-376,-377,-378,-379,-380,-381,-382,-383,-384,-385,-386,-387,-388,-389,-390,-391,-392,-393,-394,-395,-396,-397,-398,-399,-400,-401,-402,-403,-404,-405,-406,-407,-408,-409,-410,-411,-412,-413,-414,-415,-416,-417,-418,-419,-420,-421,-422,-423,-424,-425,-426,-427,-428,-429,-430,-431,-432,-433,-434,-435,-436,-437,-438,-439,-440,-441,-442,-443,-444,-445,-446,-447,-448,-449,-450,-451,-452,-453,-454,-455,-456,-457,-458,-459,-460,-461,-462,-463,-464,-465,-466,-467,-468,-469,-470,-471,-472,-473,-474,-475,-476,-477,-478,-479,-480,-481,-482,-483,-484,-485,-486,-487,-488,-489,-490,-491,-492,-493,-494,-495,-496,-497,-498,-499,-500,-501,-502,-503,-504,-505,-506,-507,-508,-509,-510,-511,-512,-513,-514,-515,-516,-517,-518,-519,-520,-521,-522,-523,-524,-525,-526,-527,-528,-529,-530,-531,-532,-533,-534,-535,-536,-537,-538,-539,-540,-541,-542,-543,-544,-545,-546,-547,-548,-549,-550,-551,-552,-553,-554,-555,-556,-557,-558,-559,-560,-561,-562,-563,-564,-565,-566,-567,-568,-569,-570,-571,-572,-573,-574,-575,-576,-577,-578,-579,-580,-581,-582,-583,-584,-585,-586,-587,-588,-589,-590,-591,-592,-593,-594,-595,-596,-597,-598,-599,-600,-601,-602,-603,-604,-605,-606,-607,-608,-609,-610,-611,-612,-613,-614,-615,-616,-617,-618,-619,-620,-621,-622,-623,-624,-625,-626,-627,-628,-629,-630,-631,-632,-633,-634,-635,-636,-637,-638,-639,-640,-641,-642,-643,-644,-645,-646,-647,-648,-649,-650,-651,-652,-653,-654,-655,-656,-657,-658,-659,-660,-661,-662,-663,-664,-665,-666,-667,-668,-669,-670,-671,-672,-673,-674,-675,-676,-677,-678,-679,-680,-681,-682,-683,-684,-685,-686,-687,-688,-689,-690,-691,-692,-693,-694,-695,-696,-697,-698,-699,-700,-701,-702,-703,-704,-705,-706,-707,-708,-709,-710,-711,-712,-713,-714,-715,-716,-717,-718,-719,-720,-721,-722,-723,-724,-725,-726,-727,-728,-729,-730,-731,-732,-733,-734,-735,-736,-737,-738,-739,-740,-741,-742,-743,-744,-745,-746,-747,-748,-749,-750,-751,-752,-753,-754,-755,-756,-757,-758,-759,-760,-761,-762,-763,-764,-765,-766,-767,-768,-769,-770,-771,-772,-773,-774,-775,-776,-777,-778,-779,-780,-781,-782,-783,-784,-785,-786,-787,-788,-789,-790,-791,-792,-793,-794,-795,-796,-797,-798,-799,-800,-801,-802,-803,-804,-805,-806,-807,-808,-809,-810,-811,-812,-813,-814,-815,-816,-817,-818,-819,-820,-821,-822,-823,-824,-825,-826,-827,-828,-829,-830,-831,-832,-833,-834,-835,-836,-837,-838,-839,-840,-841,-842,-843,-844,-845,-846,-847,-848,-849,-850,-851,-852,-853,-854,-855,-856,-857,-858,-859,-860,-861,-862,-863,-864,-865,-866,-867,-868,-869,-870,-871,-872,-873,-874,-875,-876,-877,-878,-879,-880,-881,-882,-883,-884,-885,-886,-887,-888,-889,-890,-891,-892,-893,-894,-895,-896,-897,-898,-899,-900,-901,-902,-903,-904,-905,-906,-907,-908,-909,-910,-911,-912,-913,-914,-915,-916,-917,-918,-919,-920,-921,-922,-923,-924,-925,-926,-927,-928,-929,-930,-931,-932,-933,-934,-935,-936,-937,-938,-939,-940,-941,-942,-943,-944,-945,-946,-947,-948,-949,-950,-951,-952,-953,-954,-955,-956,-957,-958,-959,-960,-961,-962,-963,-964,-965,-966,-967,-968,-969,-970,-971,-972,-973,-974,-975,-976,-977,-978,-979,-980,-981,-982,-983,-984,-985,-986,-987,-988,-989,-990,-991,-992,-993,-994,-995],\"yaxis\":\"y\",\"type\":\"scatter\"}],                        {\"template\":{\"data\":{\"histogram2dcontour\":[{\"type\":\"histogram2dcontour\",\"colorbar\":{\"outlinewidth\":0,\"ticks\":\"\"},\"colorscale\":[[0.0,\"#0d0887\"],[0.1111111111111111,\"#46039f\"],[0.2222222222222222,\"#7201a8\"],[0.3333333333333333,\"#9c179e\"],[0.4444444444444444,\"#bd3786\"],[0.5555555555555556,\"#d8576b\"],[0.6666666666666666,\"#ed7953\"],[0.7777777777777778,\"#fb9f3a\"],[0.8888888888888888,\"#fdca26\"],[1.0,\"#f0f921\"]]}],\"choropleth\":[{\"type\":\"choropleth\",\"colorbar\":{\"outlinewidth\":0,\"ticks\":\"\"}}],\"histogram2d\":[{\"type\":\"histogram2d\",\"colorbar\":{\"outlinewidth\":0,\"ticks\":\"\"},\"colorscale\":[[0.0,\"#0d0887\"],[0.1111111111111111,\"#46039f\"],[0.2222222222222222,\"#7201a8\"],[0.3333333333333333,\"#9c179e\"],[0.4444444444444444,\"#bd3786\"],[0.5555555555555556,\"#d8576b\"],[0.6666666666666666,\"#ed7953\"],[0.7777777777777778,\"#fb9f3a\"],[0.8888888888888888,\"#fdca26\"],[1.0,\"#f0f921\"]]}],\"heatmap\":[{\"type\":\"heatmap\",\"colorbar\":{\"outlinewidth\":0,\"ticks\":\"\"},\"colorscale\":[[0.0,\"#0d0887\"],[0.1111111111111111,\"#46039f\"],[0.2222222222222222,\"#7201a8\"],[0.3333333333333333,\"#9c179e\"],[0.4444444444444444,\"#bd3786\"],[0.5555555555555556,\"#d8576b\"],[0.6666666666666666,\"#ed7953\"],[0.7777777777777778,\"#fb9f3a\"],[0.8888888888888888,\"#fdca26\"],[1.0,\"#f0f921\"]]}],\"heatmapgl\":[{\"type\":\"heatmapgl\",\"colorbar\":{\"outlinewidth\":0,\"ticks\":\"\"},\"colorscale\":[[0.0,\"#0d0887\"],[0.1111111111111111,\"#46039f\"],[0.2222222222222222,\"#7201a8\"],[0.3333333333333333,\"#9c179e\"],[0.4444444444444444,\"#bd3786\"],[0.5555555555555556,\"#d8576b\"],[0.6666666666666666,\"#ed7953\"],[0.7777777777777778,\"#fb9f3a\"],[0.8888888888888888,\"#fdca26\"],[1.0,\"#f0f921\"]]}],\"contourcarpet\":[{\"type\":\"contourcarpet\",\"colorbar\":{\"outlinewidth\":0,\"ticks\":\"\"}}],\"contour\":[{\"type\":\"contour\",\"colorbar\":{\"outlinewidth\":0,\"ticks\":\"\"},\"colorscale\":[[0.0,\"#0d0887\"],[0.1111111111111111,\"#46039f\"],[0.2222222222222222,\"#7201a8\"],[0.3333333333333333,\"#9c179e\"],[0.4444444444444444,\"#bd3786\"],[0.5555555555555556,\"#d8576b\"],[0.6666666666666666,\"#ed7953\"],[0.7777777777777778,\"#fb9f3a\"],[0.8888888888888888,\"#fdca26\"],[1.0,\"#f0f921\"]]}],\"surface\":[{\"type\":\"surface\",\"colorbar\":{\"outlinewidth\":0,\"ticks\":\"\"},\"colorscale\":[[0.0,\"#0d0887\"],[0.1111111111111111,\"#46039f\"],[0.2222222222222222,\"#7201a8\"],[0.3333333333333333,\"#9c179e\"],[0.4444444444444444,\"#bd3786\"],[0.5555555555555556,\"#d8576b\"],[0.6666666666666666,\"#ed7953\"],[0.7777777777777778,\"#fb9f3a\"],[0.8888888888888888,\"#fdca26\"],[1.0,\"#f0f921\"]]}],\"mesh3d\":[{\"type\":\"mesh3d\",\"colorbar\":{\"outlinewidth\":0,\"ticks\":\"\"}}],\"scatter\":[{\"fillpattern\":{\"fillmode\":\"overlay\",\"size\":10,\"solidity\":0.2},\"type\":\"scatter\"}],\"parcoords\":[{\"type\":\"parcoords\",\"line\":{\"colorbar\":{\"outlinewidth\":0,\"ticks\":\"\"}}}],\"scatterpolargl\":[{\"type\":\"scatterpolargl\",\"marker\":{\"colorbar\":{\"outlinewidth\":0,\"ticks\":\"\"}}}],\"bar\":[{\"error_x\":{\"color\":\"#2a3f5f\"},\"error_y\":{\"color\":\"#2a3f5f\"},\"marker\":{\"line\":{\"color\":\"#E5ECF6\",\"width\":0.5},\"pattern\":{\"fillmode\":\"overlay\",\"size\":10,\"solidity\":0.2}},\"type\":\"bar\"}],\"scattergeo\":[{\"type\":\"scattergeo\",\"marker\":{\"colorbar\":{\"outlinewidth\":0,\"ticks\":\"\"}}}],\"scatterpolar\":[{\"type\":\"scatterpolar\",\"marker\":{\"colorbar\":{\"outlinewidth\":0,\"ticks\":\"\"}}}],\"histogram\":[{\"marker\":{\"pattern\":{\"fillmode\":\"overlay\",\"size\":10,\"solidity\":0.2}},\"type\":\"histogram\"}],\"scattergl\":[{\"type\":\"scattergl\",\"marker\":{\"colorbar\":{\"outlinewidth\":0,\"ticks\":\"\"}}}],\"scatter3d\":[{\"type\":\"scatter3d\",\"line\":{\"colorbar\":{\"outlinewidth\":0,\"ticks\":\"\"}},\"marker\":{\"colorbar\":{\"outlinewidth\":0,\"ticks\":\"\"}}}],\"scattermapbox\":[{\"type\":\"scattermapbox\",\"marker\":{\"colorbar\":{\"outlinewidth\":0,\"ticks\":\"\"}}}],\"scatterternary\":[{\"type\":\"scatterternary\",\"marker\":{\"colorbar\":{\"outlinewidth\":0,\"ticks\":\"\"}}}],\"scattercarpet\":[{\"type\":\"scattercarpet\",\"marker\":{\"colorbar\":{\"outlinewidth\":0,\"ticks\":\"\"}}}],\"carpet\":[{\"aaxis\":{\"endlinecolor\":\"#2a3f5f\",\"gridcolor\":\"white\",\"linecolor\":\"white\",\"minorgridcolor\":\"white\",\"startlinecolor\":\"#2a3f5f\"},\"baxis\":{\"endlinecolor\":\"#2a3f5f\",\"gridcolor\":\"white\",\"linecolor\":\"white\",\"minorgridcolor\":\"white\",\"startlinecolor\":\"#2a3f5f\"},\"type\":\"carpet\"}],\"table\":[{\"cells\":{\"fill\":{\"color\":\"#EBF0F8\"},\"line\":{\"color\":\"white\"}},\"header\":{\"fill\":{\"color\":\"#C8D4E3\"},\"line\":{\"color\":\"white\"}},\"type\":\"table\"}],\"barpolar\":[{\"marker\":{\"line\":{\"color\":\"#E5ECF6\",\"width\":0.5},\"pattern\":{\"fillmode\":\"overlay\",\"size\":10,\"solidity\":0.2}},\"type\":\"barpolar\"}],\"pie\":[{\"automargin\":true,\"type\":\"pie\"}]},\"layout\":{\"autotypenumbers\":\"strict\",\"colorway\":[\"#636efa\",\"#EF553B\",\"#00cc96\",\"#ab63fa\",\"#FFA15A\",\"#19d3f3\",\"#FF6692\",\"#B6E880\",\"#FF97FF\",\"#FECB52\"],\"font\":{\"color\":\"#2a3f5f\"},\"hovermode\":\"closest\",\"hoverlabel\":{\"align\":\"left\"},\"paper_bgcolor\":\"white\",\"plot_bgcolor\":\"#E5ECF6\",\"polar\":{\"bgcolor\":\"#E5ECF6\",\"angularaxis\":{\"gridcolor\":\"white\",\"linecolor\":\"white\",\"ticks\":\"\"},\"radialaxis\":{\"gridcolor\":\"white\",\"linecolor\":\"white\",\"ticks\":\"\"}},\"ternary\":{\"bgcolor\":\"#E5ECF6\",\"aaxis\":{\"gridcolor\":\"white\",\"linecolor\":\"white\",\"ticks\":\"\"},\"baxis\":{\"gridcolor\":\"white\",\"linecolor\":\"white\",\"ticks\":\"\"},\"caxis\":{\"gridcolor\":\"white\",\"linecolor\":\"white\",\"ticks\":\"\"}},\"coloraxis\":{\"colorbar\":{\"outlinewidth\":0,\"ticks\":\"\"}},\"colorscale\":{\"sequential\":[[0.0,\"#0d0887\"],[0.1111111111111111,\"#46039f\"],[0.2222222222222222,\"#7201a8\"],[0.3333333333333333,\"#9c179e\"],[0.4444444444444444,\"#bd3786\"],[0.5555555555555556,\"#d8576b\"],[0.6666666666666666,\"#ed7953\"],[0.7777777777777778,\"#fb9f3a\"],[0.8888888888888888,\"#fdca26\"],[1.0,\"#f0f921\"]],\"sequentialminus\":[[0.0,\"#0d0887\"],[0.1111111111111111,\"#46039f\"],[0.2222222222222222,\"#7201a8\"],[0.3333333333333333,\"#9c179e\"],[0.4444444444444444,\"#bd3786\"],[0.5555555555555556,\"#d8576b\"],[0.6666666666666666,\"#ed7953\"],[0.7777777777777778,\"#fb9f3a\"],[0.8888888888888888,\"#fdca26\"],[1.0,\"#f0f921\"]],\"diverging\":[[0,\"#8e0152\"],[0.1,\"#c51b7d\"],[0.2,\"#de77ae\"],[0.3,\"#f1b6da\"],[0.4,\"#fde0ef\"],[0.5,\"#f7f7f7\"],[0.6,\"#e6f5d0\"],[0.7,\"#b8e186\"],[0.8,\"#7fbc41\"],[0.9,\"#4d9221\"],[1,\"#276419\"]]},\"xaxis\":{\"gridcolor\":\"white\",\"linecolor\":\"white\",\"ticks\":\"\",\"title\":{\"standoff\":15},\"zerolinecolor\":\"white\",\"automargin\":true,\"zerolinewidth\":2},\"yaxis\":{\"gridcolor\":\"white\",\"linecolor\":\"white\",\"ticks\":\"\",\"title\":{\"standoff\":15},\"zerolinecolor\":\"white\",\"automargin\":true,\"zerolinewidth\":2},\"scene\":{\"xaxis\":{\"backgroundcolor\":\"#E5ECF6\",\"gridcolor\":\"white\",\"linecolor\":\"white\",\"showbackground\":true,\"ticks\":\"\",\"zerolinecolor\":\"white\",\"gridwidth\":2},\"yaxis\":{\"backgroundcolor\":\"#E5ECF6\",\"gridcolor\":\"white\",\"linecolor\":\"white\",\"showbackground\":true,\"ticks\":\"\",\"zerolinecolor\":\"white\",\"gridwidth\":2},\"zaxis\":{\"backgroundcolor\":\"#E5ECF6\",\"gridcolor\":\"white\",\"linecolor\":\"white\",\"showbackground\":true,\"ticks\":\"\",\"zerolinecolor\":\"white\",\"gridwidth\":2}},\"shapedefaults\":{\"line\":{\"color\":\"#2a3f5f\"}},\"annotationdefaults\":{\"arrowcolor\":\"#2a3f5f\",\"arrowhead\":0,\"arrowwidth\":1},\"geo\":{\"bgcolor\":\"white\",\"landcolor\":\"#E5ECF6\",\"subunitcolor\":\"white\",\"showland\":true,\"showlakes\":true,\"lakecolor\":\"white\"},\"title\":{\"x\":0.05},\"mapbox\":{\"style\":\"light\"}}},\"xaxis\":{\"anchor\":\"y\",\"domain\":[0.0,1.0],\"title\":{\"text\":\"rank\"}},\"yaxis\":{\"anchor\":\"x\",\"domain\":[0.0,1.0],\"title\":{\"text\":\"y\"}},\"legend\":{\"tracegroupgap\":0},\"margin\":{\"t\":60}},                        {\"responsive\": true}                    ).then(function(){\n",
              "                            \n",
              "var gd = document.getElementById('3c07c268-1587-421f-adab-4cdf4f51667e');\n",
              "var x = new MutationObserver(function (mutations, observer) {{\n",
              "        var display = window.getComputedStyle(gd).display;\n",
              "        if (!display || display === 'none') {{\n",
              "            console.log([gd, 'removed!']);\n",
              "            Plotly.purge(gd);\n",
              "            observer.disconnect();\n",
              "        }}\n",
              "}});\n",
              "\n",
              "// Listen for the removal of the full notebook cells\n",
              "var notebookContainer = gd.closest('#notebook-container');\n",
              "if (notebookContainer) {{\n",
              "    x.observe(notebookContainer, {childList: true});\n",
              "}}\n",
              "\n",
              "// Listen for the clearing of the current output cell\n",
              "var outputEl = gd.closest('.output');\n",
              "if (outputEl) {{\n",
              "    x.observe(outputEl, {childList: true});\n",
              "}}\n",
              "\n",
              "                        })                };                            </script>        </div>\n",
              "</body>\n",
              "</html>"
            ]
          },
          "metadata": {}
        }
      ]
    },
    {
      "cell_type": "code",
      "source": [
        "corr_matrix = df[['rank', 'subscribers']].corr()\n",
        "sns.heatmap(corr_matrix, annot=True)\n"
      ],
      "metadata": {
        "id": "p04Ifq_ZaOHb",
        "colab": {
          "base_uri": "https://localhost:8080/",
          "height": 452
        },
        "outputId": "91e41b2f-230c-42f8-c936-c3778b513fe4"
      },
      "execution_count": 31,
      "outputs": [
        {
          "output_type": "execute_result",
          "data": {
            "text/plain": [
              "<Axes: >"
            ]
          },
          "metadata": {},
          "execution_count": 31
        },
        {
          "output_type": "display_data",
          "data": {
            "text/plain": [
              "<Figure size 640x480 with 2 Axes>"
            ],
            "image/png": "[encoded data removed]"
          },
          "metadata": {}
        }
      ]
    },
    {
      "cell_type": "markdown",
      "source": [
        "Какие выводы можно сделать на основе графиков и матрицы корреляции?"
      ],
      "metadata": {
        "id": "2MVHWXICaoJ4"
      }
    },
    {
      "cell_type": "markdown",
      "source": [
        "Ранг канала зависит от колличества подписчиков. Чем больше подписчиков, тем меньше числовое значение ранга"
      ],
      "metadata": {
        "id": "HFAFaiNzatLN"
      }
    },
    {
      "cell_type": "markdown",
      "source": [
        "##Задание для гениев*"
      ],
      "metadata": {
        "id": "K5HCSPTPbwfJ"
      }
    },
    {
      "cell_type": "markdown",
      "source": [
        "Реализовать следующие методы поиска выбросов:\n",
        "1. На основе среднего и отклонения\n",
        "2. Критерий Шовене\n",
        "3. С помощью квартилей\n",
        "4. Поиск выбросов по двум переменным\n",
        "\n",
        "[Посмотреть](http://course.omgtu.ru/wp-content/uploads/2021/04/3_%D0%92%D1%8B%D0%B1%D1%80%D0%BE%D1%81%D1%8B.pdf)\n",
        "\n",
        "P.S. в качестве возвразаемого значения методов может быть:\n",
        "1. очищенный датафрейм\n",
        "2. индексы выбросов ```df.series.index```"
      ],
      "metadata": {
        "id": "pil5bgt5b98A"
      }
    },
    {
      "cell_type": "code",
      "source": [
        "\"\"\"\n",
        "\n",
        "Ваш код здесь\n",
        "\n",
        "\"\"\""
      ],
      "metadata": {
        "id": "IXM6eoIvdCBs",
        "colab": {
          "base_uri": "https://localhost:8080/",
          "height": 36
        },
        "outputId": "6dfbe0c1-15a5-456c-828d-4f68949e3c68"
      },
      "execution_count": null,
      "outputs": [
        {
          "output_type": "execute_result",
          "data": {
            "text/plain": [
              "'\\n\\nВаш код здесь\\n\\n'"
            ],
            "application/vnd.google.colaboratory.intrinsic+json": {
              "type": "string"
            }
          },
          "metadata": {},
          "execution_count": 41
        }
      ]
    },
    {
      "cell_type": "markdown",
      "source": [
        "### Пример реализации одного метода"
      ],
      "metadata": {
        "id": "dRQRyxdgD_sk"
      }
    },
    {
      "cell_type": "code",
      "source": [
        "from statistics import median, mean\n",
        "\n",
        "class Outline:\n",
        "  def __init__(self, df):\n",
        "    self.df = df\n",
        "\n",
        "  def delete_outline_by_mean(self, column_name):\n",
        "    mean_data = mean(self.df[column_name])\n",
        "    maximum = mean_data * 2\n",
        "    result = []\n",
        "\n",
        "    for item in self.df[column_name]:\n",
        "      if abs(item - mean_data) < maximum:\n",
        "        result.append(item)\n",
        "\n",
        "    return result\n",
        "\n"
      ],
      "metadata": {
        "id": "lJEOQcx0vavH"
      },
      "execution_count": null,
      "outputs": []
    },
    {
      "cell_type": "code",
      "source": [],
      "metadata": {
        "id": "1EViTEon8Rkj"
      },
      "execution_count": 21,
      "outputs": []
    }
  ]
}